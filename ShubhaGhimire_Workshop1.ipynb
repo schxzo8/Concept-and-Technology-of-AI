{
  "nbformat": 4,
  "nbformat_minor": 0,
  "metadata": {
    "colab": {
      "provenance": []
    },
    "kernelspec": {
      "name": "python3",
      "display_name": "Python 3"
    },
    "language_info": {
      "name": "python"
    }
  },
  "cells": [
    {
      "cell_type": "code",
      "source": [
        "#Shubha Ghimire\n",
        "#ID- 2430050\n",
        "\n",
        "import numpy as np"
      ],
      "metadata": {
        "id": "2NYR_iBoxizp"
      },
      "execution_count": null,
      "outputs": []
    },
    {
      "cell_type": "code",
      "execution_count": null,
      "metadata": {
        "colab": {
          "base_uri": "https://localhost:8080/"
        },
        "id": "lXrEu1kceQ7r",
        "outputId": "890a78f2-2280-474a-944a-f01d378dbf73"
      },
      "outputs": [
        {
          "output_type": "execute_result",
          "data": {
            "text/plain": [
              "(2, 4)"
            ]
          },
          "metadata": {},
          "execution_count": 5
        }
      ],
      "source": [
        "import numpy as np\n",
        "\n",
        "a = np.array([1,2,3,4])\n",
        "b = np.array([[1,2,3,4]])\n",
        "c = np.array([[1,2,3,4],[5,6,7,8]])\n",
        "a.shape\n",
        "c.shape"
      ]
    },
    {
      "cell_type": "code",
      "source": [
        "a = np.array([[1,2,3,4],[2,3,4,5]])\n",
        "a"
      ],
      "metadata": {
        "colab": {
          "base_uri": "https://localhost:8080/"
        },
        "id": "6mk76hnDeq4G",
        "outputId": "e9cea74b-aa33-4c68-8cf0-53082a069a8b"
      },
      "execution_count": null,
      "outputs": [
        {
          "output_type": "execute_result",
          "data": {
            "text/plain": [
              "array([[1, 2, 3, 4],\n",
              "       [2, 3, 4, 5]])"
            ]
          },
          "metadata": {},
          "execution_count": 6
        }
      ]
    },
    {
      "cell_type": "code",
      "source": [
        "b = np.array([[4,5,6,7],[6,8,4,5]])\n",
        "b"
      ],
      "metadata": {
        "colab": {
          "base_uri": "https://localhost:8080/"
        },
        "id": "xaIL-U2WikUQ",
        "outputId": "b293db7a-be32-4ac9-d2c0-3376a2ecb7ea"
      },
      "execution_count": null,
      "outputs": [
        {
          "output_type": "execute_result",
          "data": {
            "text/plain": [
              "array([[4, 5, 6, 7],\n",
              "       [6, 8, 4, 5]])"
            ]
          },
          "metadata": {},
          "execution_count": 11
        }
      ]
    },
    {
      "cell_type": "code",
      "source": [
        "c = np.concatenate((a,b))\n",
        "c"
      ],
      "metadata": {
        "colab": {
          "base_uri": "https://localhost:8080/"
        },
        "id": "bd2BKfWIlaGw",
        "outputId": "dd9f63f8-8b6a-4d67-f201-e961f6ca2220"
      },
      "execution_count": null,
      "outputs": [
        {
          "output_type": "execute_result",
          "data": {
            "text/plain": [
              "array([[1, 2, 3, 4],\n",
              "       [2, 3, 4, 5],\n",
              "       [4, 5, 6, 7],\n",
              "       [6, 8, 4, 5]])"
            ]
          },
          "metadata": {},
          "execution_count": 12
        }
      ]
    },
    {
      "cell_type": "code",
      "source": [
        "d = np.stack((a,b) , axis =1)\n",
        "d"
      ],
      "metadata": {
        "colab": {
          "base_uri": "https://localhost:8080/"
        },
        "id": "DqWH5A04leaV",
        "outputId": "d7b294b4-8c65-409e-83aa-de35b2b0edf3"
      },
      "execution_count": null,
      "outputs": [
        {
          "output_type": "execute_result",
          "data": {
            "text/plain": [
              "array([[[1, 2, 3, 4],\n",
              "        [4, 5, 6, 7]],\n",
              "\n",
              "       [[2, 3, 4, 5],\n",
              "        [6, 8, 4, 5]]])"
            ]
          },
          "metadata": {},
          "execution_count": 15
        }
      ]
    },
    {
      "cell_type": "code",
      "source": [
        "e = np.vstack((a,b))\n",
        "e"
      ],
      "metadata": {
        "colab": {
          "base_uri": "https://localhost:8080/"
        },
        "id": "jIk305FtmL62",
        "outputId": "d1ed1526-5d3d-42ec-e0cd-3597a727d0f3"
      },
      "execution_count": null,
      "outputs": [
        {
          "output_type": "execute_result",
          "data": {
            "text/plain": [
              "array([[1, 2, 3, 4],\n",
              "       [2, 3, 4, 5],\n",
              "       [4, 5, 6, 7],\n",
              "       [6, 8, 4, 5]])"
            ]
          },
          "metadata": {},
          "execution_count": 17
        }
      ]
    },
    {
      "cell_type": "code",
      "source": [],
      "metadata": {
        "id": "NujR7YtXqhNG"
      },
      "execution_count": null,
      "outputs": []
    },
    {
      "cell_type": "code",
      "source": [
        "#1\n",
        "import numpy as np\n",
        "# Create and display zero, one, and n-dimensional arrays\n",
        "zero_dim_array = np.array(5)\n",
        "one_dim_array = np.array([1, 2, 3])\n",
        "n_dim_array = np.array([[1, 2], [3, 4]])\n",
        "for arr in [zero_dim_array, one_dim_array, n_dim_array]:\n",
        "  print(f\"Array:\\n{arr}\\nDimension: {arr.ndim}\\nData type: {arr.dtype}\\n\")\n"
      ],
      "metadata": {
        "colab": {
          "base_uri": "https://localhost:8080/"
        },
        "id": "rxVzcYzLmcvs",
        "outputId": "beba2beb-8cfe-492a-c425-d3ad03061768"
      },
      "execution_count": null,
      "outputs": [
        {
          "output_type": "stream",
          "name": "stdout",
          "text": [
            "Array:\n",
            "5\n",
            "Dimension: 0\n",
            "Data type: int64\n",
            "\n",
            "Array:\n",
            "[1 2 3]\n",
            "Dimension: 1\n",
            "Data type: int64\n",
            "\n",
            "Array:\n",
            "[[1 2]\n",
            " [3 4]]\n",
            "Dimension: 2\n",
            "Data type: int64\n",
            "\n"
          ]
        }
      ]
    },
    {
      "cell_type": "code",
      "source": [
        "#1\n",
        "# prompt: Initialize an empty array with size 2X2.\n",
        "\n",
        "import numpy as np\n",
        "\n",
        "empty_array = np.empty((2, 2))\n",
        "empty_array"
      ],
      "metadata": {
        "colab": {
          "base_uri": "https://localhost:8080/"
        },
        "id": "rMCHF6pzrMDe",
        "outputId": "8099ee6c-d6bf-4abd-eb9a-fe3d50f2bfee"
      },
      "execution_count": null,
      "outputs": [
        {
          "output_type": "execute_result",
          "data": {
            "text/plain": [
              "array([[4.9e-324, 9.9e-324],\n",
              "       [1.5e-323, 2.0e-323]])"
            ]
          },
          "metadata": {},
          "execution_count": 24
        }
      ]
    },
    {
      "cell_type": "code",
      "source": [
        "#2\n",
        "#Initialize an all one array with size 4X2.\n",
        "\n",
        "import numpy as np\n",
        "\n",
        "one_array = np.ones((4, 2))\n",
        "one_array"
      ],
      "metadata": {
        "colab": {
          "base_uri": "https://localhost:8080/"
        },
        "id": "IE9q66Pts8fI",
        "outputId": "699f515b-2087-463e-f3ab-0a7b182aecc2"
      },
      "execution_count": null,
      "outputs": [
        {
          "output_type": "execute_result",
          "data": {
            "text/plain": [
              "array([[1., 1.],\n",
              "       [1., 1.],\n",
              "       [1., 1.],\n",
              "       [1., 1.]])"
            ]
          },
          "metadata": {},
          "execution_count": 25
        }
      ]
    },
    {
      "cell_type": "code",
      "source": [
        "\n",
        "#3\n",
        "#Return a new array of given shape and type, filled with fill value.{Hint: np.full}\n",
        "full_array = np.full((3, 3), 5)\n",
        "full_array"
      ],
      "metadata": {
        "colab": {
          "base_uri": "https://localhost:8080/"
        },
        "id": "aCcgJKi-tu1m",
        "outputId": "7d06e566-8af0-4d18-c877-82572982d106"
      },
      "execution_count": null,
      "outputs": [
        {
          "output_type": "execute_result",
          "data": {
            "text/plain": [
              "array([[5, 5, 5],\n",
              "       [5, 5, 5],\n",
              "       [5, 5, 5]])"
            ]
          },
          "metadata": {},
          "execution_count": 26
        }
      ]
    },
    {
      "cell_type": "code",
      "source": [
        "#4\n",
        "# prompt: Return a new array of zeros with same shape and type as a given array.{Hint:\n",
        "\n",
        "import numpy as np\n",
        "original_array = np.array([[1, 2, 3], [4, 5, 6]])\n",
        "\n",
        "zeros_array = np.zeros_like(original_array)\n",
        "\n",
        "zeros_array"
      ],
      "metadata": {
        "colab": {
          "base_uri": "https://localhost:8080/"
        },
        "id": "w6DRM0uYtyU8",
        "outputId": "6cfcc579-9dc2-48e8-8f42-7caba963d14f"
      },
      "execution_count": null,
      "outputs": [
        {
          "output_type": "execute_result",
          "data": {
            "text/plain": [
              "array([[0, 0, 0],\n",
              "       [0, 0, 0]])"
            ]
          },
          "metadata": {},
          "execution_count": 27
        }
      ]
    },
    {
      "cell_type": "code",
      "source": [
        "#5\n",
        "# prompt: Return a new array of ones with same shape and type as a given array.{Hint:\n",
        "\n",
        "import numpy as np\n",
        "original_array = np.array([[1, 2, 3], [4, 5, 6]])\n",
        "\n",
        "ones_array = np.ones_like(original_array)\n",
        "\n",
        "ones_array"
      ],
      "metadata": {
        "colab": {
          "base_uri": "https://localhost:8080/"
        },
        "id": "_eNiJQptu7KX",
        "outputId": "85b5c916-0c38-4a28-af2c-4e87ac0d14db"
      },
      "execution_count": null,
      "outputs": [
        {
          "output_type": "execute_result",
          "data": {
            "text/plain": [
              "array([[1, 1, 1],\n",
              "       [1, 1, 1]])"
            ]
          },
          "metadata": {},
          "execution_count": 30
        }
      ]
    },
    {
      "cell_type": "code",
      "source": [
        "#6\n",
        "# For an existing list new_list = [1,2,3,4] convert to an numpy array.{Hint: np.array()}\n",
        "\n",
        "new_list = [1,2,3,4]\n",
        "numpy_array = np.array(new_list)\n",
        "numpy_array\n"
      ],
      "metadata": {
        "colab": {
          "base_uri": "https://localhost:8080/"
        },
        "id": "0zzR9OAMvd1E",
        "outputId": "fefbe647-6a2b-47fa-eaec-eb234f0dd61e"
      },
      "execution_count": null,
      "outputs": [
        {
          "output_type": "execute_result",
          "data": {
            "text/plain": [
              "array([1, 2, 3, 4])"
            ]
          },
          "metadata": {},
          "execution_count": 31
        }
      ]
    },
    {
      "cell_type": "markdown",
      "source": [
        "Array Manipulation: Numerical Ranges and Array indexing:"
      ],
      "metadata": {
        "id": "QMysV9sBwudU"
      }
    },
    {
      "cell_type": "code",
      "source": [
        "#1\n",
        "# Create an array with values ranging from 10 to 49. {Hint:np.arrange()}.\n",
        "import numpy as np\n",
        "array = np.arange(10,50)\n",
        "array\n",
        "\n",
        "\n"
      ],
      "metadata": {
        "colab": {
          "base_uri": "https://localhost:8080/"
        },
        "id": "akj613iVwTcJ",
        "outputId": "a840c9b1-039b-433c-ff45-97fc541ec7b7"
      },
      "execution_count": null,
      "outputs": [
        {
          "output_type": "execute_result",
          "data": {
            "text/plain": [
              "array([10, 11, 12, 13, 14, 15, 16, 17, 18, 19, 20, 21, 22, 23, 24, 25, 26,\n",
              "       27, 28, 29, 30, 31, 32, 33, 34, 35, 36, 37, 38, 39, 40, 41, 42, 43,\n",
              "       44, 45, 46, 47, 48, 49])"
            ]
          },
          "metadata": {},
          "execution_count": 37
        }
      ]
    },
    {
      "cell_type": "code",
      "source": [
        "#2\n",
        "# Create a 3X3 matrix with values ranging from 0 to 8.\n",
        "# {Hint:look for np.reshape()}\n",
        "\n",
        "array = np.arange(9).reshape(3,3)\n",
        "array\n"
      ],
      "metadata": {
        "colab": {
          "base_uri": "https://localhost:8080/"
        },
        "id": "AgLkGZIBxefn",
        "outputId": "e3ee10ef-d02f-4cd6-b0b3-7f656463e79d"
      },
      "execution_count": null,
      "outputs": [
        {
          "output_type": "execute_result",
          "data": {
            "text/plain": [
              "array([[0, 1, 2],\n",
              "       [3, 4, 5],\n",
              "       [6, 7, 8]])"
            ]
          },
          "metadata": {},
          "execution_count": 39
        }
      ]
    },
    {
      "cell_type": "code",
      "source": [
        "#3\n",
        "# Create a 3X3 identity matrix.{Hint:np.eye()}\n",
        "\n",
        "array = np.eye(3,3)\n",
        "array\n"
      ],
      "metadata": {
        "colab": {
          "base_uri": "https://localhost:8080/"
        },
        "id": "Idyg_979yzaa",
        "outputId": "07932769-7078-4c66-818b-381da5d12bed"
      },
      "execution_count": null,
      "outputs": [
        {
          "output_type": "execute_result",
          "data": {
            "text/plain": [
              "array([[1., 0., 0.],\n",
              "       [0., 1., 0.],\n",
              "       [0., 0., 1.]])"
            ]
          },
          "metadata": {},
          "execution_count": 40
        }
      ]
    },
    {
      "cell_type": "code",
      "source": [
        "#4\n",
        "# Create a random array of size 30 and find the mean of the array.\n",
        "# {Hint:check for np.random.random() and array.mean() function}\n",
        "random_array = np.random.random(30)\n",
        "mean_array = np.mean(random_array)\n",
        "mean_array"
      ],
      "metadata": {
        "colab": {
          "base_uri": "https://localhost:8080/"
        },
        "id": "UR7rZYoC0SCS",
        "outputId": "9d4a1f2c-5d8a-4c69-a453-6bda51b1e05f"
      },
      "execution_count": null,
      "outputs": [
        {
          "output_type": "execute_result",
          "data": {
            "text/plain": [
              "0.4734800738501922"
            ]
          },
          "metadata": {},
          "execution_count": 42
        }
      ]
    },
    {
      "cell_type": "code",
      "source": [
        "#5\n",
        "# Create a 10X10 array with random values and find the minimum and maximum values.\n",
        "random_array = np.random.rand(10, 10)\n",
        "\n",
        "min_array = np.min(random_array)\n",
        "max_array = np.max(random_array)\n",
        "print(f\"Minimum value: {min_array}\")\n",
        "print(f\"Maximum value: {max_array}\")\n"
      ],
      "metadata": {
        "colab": {
          "base_uri": "https://localhost:8080/"
        },
        "id": "483eAb9Q1jBU",
        "outputId": "f4694135-8894-4426-a834-6b37eb90c54a"
      },
      "execution_count": null,
      "outputs": [
        {
          "output_type": "stream",
          "name": "stdout",
          "text": [
            "Minimum value: 0.019569851416752604\n",
            "Maximum value: 0.9869779989679872\n"
          ]
        }
      ]
    },
    {
      "cell_type": "code",
      "source": [
        "# 6\n",
        "# Create a zero array of size 10 and replace 5th element with 1.\n",
        "import numpy as np\n",
        "\n",
        "zero_array = np.zeros(10)\n",
        "zero_array[4] = 1  # Replace the 5th element (index 4) with 1\n",
        "\n",
        "zero_array"
      ],
      "metadata": {
        "colab": {
          "base_uri": "https://localhost:8080/"
        },
        "id": "B19CyYxs27eU",
        "outputId": "06cf4f19-70e1-46f7-8e7b-49ddea2344c3"
      },
      "execution_count": null,
      "outputs": [
        {
          "output_type": "execute_result",
          "data": {
            "text/plain": [
              "array([0., 0., 0., 0., 1., 0., 0., 0., 0., 0.])"
            ]
          },
          "metadata": {},
          "execution_count": 50
        }
      ]
    },
    {
      "cell_type": "code",
      "source": [
        "#7\n",
        "# Reverse an array arr = [1,2,0,0,4,0]\n",
        "\n",
        "array = [1,2,0,0,4,0]\n",
        "array.reverse()\n",
        "array"
      ],
      "metadata": {
        "colab": {
          "base_uri": "https://localhost:8080/"
        },
        "id": "EaM8MlSq37pd",
        "outputId": "56804246-43ee-4724-bfd5-b4f11648c442"
      },
      "execution_count": null,
      "outputs": [
        {
          "output_type": "execute_result",
          "data": {
            "text/plain": [
              "[0, 4, 0, 0, 2, 1]"
            ]
          },
          "metadata": {},
          "execution_count": 52
        }
      ]
    },
    {
      "cell_type": "code",
      "source": [
        "#8\n",
        "# Create a 2d array with 1 on border and 0 inside.\n",
        "import numpy as np\n",
        "rows = 5\n",
        "cols = 4\n",
        "array = np.ones((rows, cols))\n",
        "array[1:-1, 1:-1] = 0\n",
        "\n",
        "print(array)"
      ],
      "metadata": {
        "id": "NJdt674J4INo",
        "colab": {
          "base_uri": "https://localhost:8080/"
        },
        "outputId": "b924a269-c999-458e-e4f5-64f9c6a1aabc"
      },
      "execution_count": null,
      "outputs": [
        {
          "output_type": "stream",
          "name": "stdout",
          "text": [
            "[[1. 1. 1. 1.]\n",
            " [1. 0. 0. 1.]\n",
            " [1. 0. 0. 1.]\n",
            " [1. 0. 0. 1.]\n",
            " [1. 1. 1. 1.]]\n"
          ]
        }
      ]
    },
    {
      "cell_type": "code",
      "source": [
        "#9\n",
        "# Create a 8X8 matrix and fill it with a checkerboard pattern.\n",
        "import numpy as np\n",
        "\n",
        "checkerboard = np.zeros((8, 8), dtype=int)\n",
        "\n",
        "# Fill the matrix with a checkerboard pattern\n",
        "checkerboard[::2, ::2] = 1\n",
        "checkerboard[1::2, 1::2] = 1\n",
        "\n",
        "print(checkerboard) # To see the output, run the code."
      ],
      "metadata": {
        "id": "CO5VDG91wO58",
        "colab": {
          "base_uri": "https://localhost:8080/"
        },
        "outputId": "b48da569-5477-4fcb-e601-a05650ebb03e"
      },
      "execution_count": null,
      "outputs": [
        {
          "output_type": "stream",
          "name": "stdout",
          "text": [
            "[[1 0 1 0 1 0 1 0]\n",
            " [0 1 0 1 0 1 0 1]\n",
            " [1 0 1 0 1 0 1 0]\n",
            " [0 1 0 1 0 1 0 1]\n",
            " [1 0 1 0 1 0 1 0]\n",
            " [0 1 0 1 0 1 0 1]\n",
            " [1 0 1 0 1 0 1 0]\n",
            " [0 1 0 1 0 1 0 1]]\n"
          ]
        }
      ]
    },
    {
      "cell_type": "markdown",
      "source": [
        " Problem- 3: Array Operations:"
      ],
      "metadata": {
        "id": "EjVo2a7ZxDU7"
      }
    },
    {
      "cell_type": "code",
      "source": [
        "x = np.array([[1,2],[3,5]])\n",
        "y = np.array([[5,6],[7,8]])\n",
        "v = np.array([9,10])\n",
        "w = np.array([11,12])"
      ],
      "metadata": {
        "id": "16PVo4QJwE5C"
      },
      "execution_count": null,
      "outputs": []
    },
    {
      "cell_type": "code",
      "source": [
        "#1\n",
        "# Add two array\n",
        "\n",
        "x = np.array([[1,2],[3,5]]) ,\n",
        "y = np.array([[5,6],[7,8]]) ,\n",
        "add = np.add(x,y)\n",
        "add\n",
        "\n"
      ],
      "metadata": {
        "colab": {
          "base_uri": "https://localhost:8080/"
        },
        "id": "mdub94CsxEvg",
        "outputId": "87f4bba8-6ae7-495a-d47d-bb8489fcbeab"
      },
      "execution_count": null,
      "outputs": [
        {
          "output_type": "execute_result",
          "data": {
            "text/plain": [
              "array([[[ 6,  8],\n",
              "        [10, 13]]])"
            ]
          },
          "metadata": {},
          "execution_count": 9
        }
      ]
    },
    {
      "cell_type": "code",
      "source": [
        "# 2\n",
        "# Substract two array\n",
        "v = np.array([9,10]) ,\n",
        "w = np.array([11,12])\n",
        "sub = np.subtract(v,w)\n",
        "sub\n"
      ],
      "metadata": {
        "colab": {
          "base_uri": "https://localhost:8080/"
        },
        "id": "gK_IN_gyxXr8",
        "outputId": "d233824a-a062-442a-d1ee-a1860711b012"
      },
      "execution_count": null,
      "outputs": [
        {
          "output_type": "execute_result",
          "data": {
            "text/plain": [
              "array([[-2, -2]])"
            ]
          },
          "metadata": {},
          "execution_count": 10
        }
      ]
    },
    {
      "cell_type": "code",
      "source": [
        "import numpy as np\n",
        "\n",
        "x = np.array([[1,2],[3,5]])\n",
        "y = np.array([[5,6],[7,8]])\n",
        "v = np.array([9,10])\n",
        "w = np.array([11,12])\n",
        "\n",
        "x_multiplied = x * 2\n",
        "y_multiplied = y * 2\n",
        "v_multiplied = v * 2\n",
        "w_multiplied = w * 2\n",
        "\n",
        "print(\"x multiplied by 2:\\n\", x_multiplied)\n",
        "print(\"y multiplied by 2:\\n\", y_multiplied)\n",
        "print(\"v multiplied by 2:\\n\", v_multiplied)\n",
        "print(\"w multiplied by 2:\\n\", w_multiplied)\n"
      ],
      "metadata": {
        "id": "CIhuAA3dyCK5",
        "colab": {
          "base_uri": "https://localhost:8080/"
        },
        "outputId": "3fa9c017-ba62-4f2e-f2a4-c5e6919cc74b"
      },
      "execution_count": null,
      "outputs": [
        {
          "output_type": "stream",
          "name": "stdout",
          "text": [
            "x multiplied by 2:\n",
            " [[ 2  4]\n",
            " [ 6 10]]\n",
            "y multiplied by 2:\n",
            " [[10 12]\n",
            " [14 16]]\n",
            "v multiplied by 2:\n",
            " [18 20]\n",
            "w multiplied by 2:\n",
            " [22 24]\n"
          ]
        }
      ]
    },
    {
      "cell_type": "code",
      "source": [
        "#4\n",
        "# Find the square of each element of the array.\n",
        "\n",
        "import numpy as np\n",
        "\n",
        "x_square = np.square(x),\n",
        "y_square = np.square(y),\n",
        "v_square = np.square(v),\n",
        "w_square = np.square(w),\n",
        "\n",
        "print(\"Square of x \" , x_square),\n",
        "print(\"Square of y \" , y_square),\n",
        "print(\"Square of v \" , v_square),\n",
        "print(\"Square of w \" , w_square)"
      ],
      "metadata": {
        "colab": {
          "base_uri": "https://localhost:8080/"
        },
        "id": "y7-Nz_2Pv1DL",
        "outputId": "9006da37-6d42-49dc-ba17-7173f8c32c5c"
      },
      "execution_count": null,
      "outputs": [
        {
          "output_type": "stream",
          "name": "stdout",
          "text": [
            "Square of x  (array([[ 1,  4],\n",
            "       [ 9, 25]]),)\n",
            "Square of y  (array([[25, 36],\n",
            "       [49, 64]]),)\n",
            "Square of v  (array([ 81, 100]),)\n",
            "Square of w  (array([121, 144]),)\n"
          ]
        }
      ]
    },
    {
      "cell_type": "code",
      "source": [
        "#5\n",
        "# Find the dot product between: v(and)w ; x(and)v ; x(and)y.\n",
        "dot_v_w = np.dot(v, w),\n",
        "dot_x_v = np.dot(x, v),\n",
        "dot_x_y = np.dot(x,y),\n",
        "\n",
        "print(\"Dot product of v and w:\",dot_v_w),\n",
        "print(\"Dot product of x and v:\", dot_x_v),\n",
        "print(\"Dot product of x and y:\\n\", dot_x_y)"
      ],
      "metadata": {
        "colab": {
          "base_uri": "https://localhost:8080/"
        },
        "id": "k43TwmVmwmuv",
        "outputId": "9e093a15-5a2f-4b4c-d252-188f68bc1ecf"
      },
      "execution_count": null,
      "outputs": [
        {
          "output_type": "stream",
          "name": "stdout",
          "text": [
            "Dot product of v and w: (219,)\n",
            "Dot product of x and v: (array([29, 77]),)\n",
            "Dot product of x and y:\n",
            " (array([[19, 22],\n",
            "       [50, 58]]),)\n"
          ]
        }
      ]
    },
    {
      "cell_type": "code",
      "source": [
        "#6\n",
        "#  Concatenate x(and)y along row and Concatenate v(and)w along column.\n",
        "#  {Hint:try np.concatenate() or np.vstack() functions.\n",
        "\n",
        "concatenated_xy = np.concatenate((x, y), axis=0)\n",
        "concatenated_vw = np.vstack((v, w))\n",
        "print(\"Concatenated x and y along rows:\\n\", concatenated_xy)\n",
        "print(\"Concatenated v and w along columns:\\n\", concatenated_vw)\n"
      ],
      "metadata": {
        "colab": {
          "base_uri": "https://localhost:8080/"
        },
        "id": "VfSkkrvmxscd",
        "outputId": "5c14b6b4-8ef3-4a19-e48a-f7f9e1e5482c"
      },
      "execution_count": null,
      "outputs": [
        {
          "output_type": "stream",
          "name": "stdout",
          "text": [
            "Concatenated x and y along rows:\n",
            " [[1 2]\n",
            " [3 5]\n",
            " [5 6]\n",
            " [7 8]]\n",
            "Concatenated v and w along columns:\n",
            " [[ 9 10]\n",
            " [11 12]]\n"
          ]
        }
      ]
    },
    {
      "cell_type": "markdown",
      "source": [
        "Concatenated_xy = np.concatenate((x, y),) why i am getting error ?\n",
        "\n",
        "The error occurs because the np.concatenate() function requires the axis parameter.Axis is set to 0, which means concatenation along the first axis (rows)"
      ],
      "metadata": {
        "id": "SqUo_iS301xG"
      }
    },
    {
      "cell_type": "markdown",
      "source": [
        "Problem 4"
      ],
      "metadata": {
        "id": "i5wubsUz1Aft"
      }
    },
    {
      "cell_type": "code",
      "source": [
        "\n",
        "\n",
        "# 1. Prove A * A^-1 = I\n",
        "A_inv = np.linalg.inv(A)\n",
        "identity_matrix = np.dot(A, A_inv)\n",
        "print(\"A * A^-1 = I:\\n\", identity_matrix)\n",
        "\n",
        "# 2. Prove AB = BA\n",
        "AB = np.dot(A, B)\n",
        "BA = np.dot(B, A)\n",
        "print(\"AB:\\n\", AB)\n",
        "print(\"BA:\\n\", BA)\n",
        "print(\"AB == BA:\", np.array_equal(AB, BA))\n",
        "\n",
        "# 3. Prove (AB)^T = B^T A^T\n",
        "AB_T = np.transpose(AB)\n",
        "BT_AT = np.dot(np.transpose(B), np.transpose(A))\n",
        "print(\"(AB)^T:\\n\", AB_T)\n",
        "print(\"B^T A^T:\\n\", BT_AT)\n",
        "print(\"(AB)^T == B^T A^T:\", np.array_equal(AB_T, BT_AT))\n",
        "\n"
      ],
      "metadata": {
        "colab": {
          "base_uri": "https://localhost:8080/"
        },
        "id": "zaiuxsO-1OtF",
        "outputId": "9c20a74b-8323-4969-c3e7-ab9b592d5687"
      },
      "execution_count": null,
      "outputs": [
        {
          "output_type": "stream",
          "name": "stdout",
          "text": [
            "A * A^-1 = I:\n",
            " [[1.00000000e+00 0.00000000e+00]\n",
            " [1.77635684e-15 1.00000000e+00]]\n",
            "AB:\n",
            " [[23 13]\n",
            " [51 29]]\n",
            "BA:\n",
            " [[36 44]\n",
            " [13 16]]\n",
            "AB == BA: False\n",
            "(AB)^T:\n",
            " [[23 51]\n",
            " [13 29]]\n",
            "B^T A^T:\n",
            " [[23 51]\n",
            " [13 29]]\n",
            "(AB)^T == B^T A^T: True\n"
          ]
        }
      ]
    },
    {
      "cell_type": "code",
      "source": [],
      "metadata": {
        "colab": {
          "base_uri": "https://localhost:8080/"
        },
        "id": "FSkn_b7S2ZrZ",
        "outputId": "bbbe3439-4d16-4262-ed3b-307e78a8fb31"
      },
      "execution_count": null,
      "outputs": [
        {
          "output_type": "stream",
          "name": "stdout",
          "text": [
            "A * A⁻¹:\n",
            "[[1.00000000e+00 0.00000000e+00]\n",
            " [1.77635684e-15 1.00000000e+00]]\n",
            "\n",
            "Is A * A⁻¹ equal to the identity matrix?\n",
            "True\n"
          ]
        }
      ]
    },
    {
      "cell_type": "code",
      "source": [
        "import time\n",
        "\n",
        "# Create two lists of size 1,000,000\n",
        "list1 = [i for i in range(1000000)]\n",
        "list2 = [i for i in range(1000000)]\n",
        "\n",
        "# Measure the time taken for element-wise addition\n",
        "start_time = time.time()\n",
        "result_list = [list1[i] + list2[i] for i in range(1000000)]\n",
        "end_time = time.time()\n",
        "\n",
        "print(\"Time taken for element-wise addition using Python lists:\", end_time - start_time, \"seconds\")\n"
      ],
      "metadata": {
        "colab": {
          "base_uri": "https://localhost:8080/"
        },
        "id": "Rt7CmhdH7R_k",
        "outputId": "54472d20-0781-4ea9-ff1e-a7c8523ff183"
      },
      "execution_count": null,
      "outputs": [
        {
          "output_type": "stream",
          "name": "stdout",
          "text": [
            "Time taken for element-wise addition using Python lists: 0.26267290115356445 seconds\n"
          ]
        }
      ]
    },
    {
      "cell_type": "code",
      "source": [
        "import numpy as np\n",
        "import time\n",
        "\n",
        "array1 = np.arange(1000000)\n",
        "array2 = np.arange(1000000)\n",
        "\n",
        "start_time = time.time()\n",
        "result_array = array1 + array2\n",
        "end_time = time.time()\n",
        "\n",
        "print(\"Time taken for element-wise addition using NumPy arrays:\", end_time - start_time, \"seconds\")\n"
      ],
      "metadata": {
        "colab": {
          "base_uri": "https://localhost:8080/"
        },
        "id": "r7_VdPCG8qVP",
        "outputId": "2756208a-ed67-478a-f244-61aabd8100ed"
      },
      "execution_count": null,
      "outputs": [
        {
          "output_type": "stream",
          "name": "stdout",
          "text": [
            "Time taken for element-wise addition using NumPy arrays: 0.024696826934814453 seconds\n"
          ]
        }
      ]
    },
    {
      "cell_type": "code",
      "source": [
        "import time\n",
        "\n",
        "list1 = [i for i in range(1000000)]\n",
        "list2 = [i for i in range(1000000)]\n",
        "\n",
        "start_time = time.time()\n",
        "result_list = [list1[i] * list2[i] for i in range(1000000)]\n",
        "end_time = time.time()\n",
        "\n",
        "print(\"Time taken for element-wise multiplication using Python lists:\", end_time - start_time, \"seconds\")\n"
      ],
      "metadata": {
        "colab": {
          "base_uri": "https://localhost:8080/"
        },
        "id": "9naTBTLJ8r-8",
        "outputId": "a2fcc534-c4a3-4731-e428-fc0f67b6ad91"
      },
      "execution_count": null,
      "outputs": [
        {
          "output_type": "stream",
          "name": "stdout",
          "text": [
            "Time taken for element-wise multiplication using Python lists: 0.3301560878753662 seconds\n"
          ]
        }
      ]
    },
    {
      "cell_type": "code",
      "source": [
        "import numpy as np\n",
        "import time\n",
        "\n",
        "array1 = np.arange(1000000)\n",
        "array2 = np.arange(1000000)\n",
        "\n",
        "start_time = time.time()\n",
        "result_array = array1 * array2\n",
        "end_time = time.time()\n",
        "\n",
        "print(\"Time taken for element-wise multiplication using NumPy arrays:\", end_time - start_time, \"seconds\")\n"
      ],
      "metadata": {
        "colab": {
          "base_uri": "https://localhost:8080/"
        },
        "id": "RmALn5kM82Ye",
        "outputId": "0825a666-217f-4d18-b8e5-4ae0dc36ea15"
      },
      "execution_count": null,
      "outputs": [
        {
          "output_type": "stream",
          "name": "stdout",
          "text": [
            "Time taken for element-wise multiplication using NumPy arrays: 0.009035587310791016 seconds\n"
          ]
        }
      ]
    },
    {
      "cell_type": "code",
      "source": [
        "import time\n",
        "\n",
        "list1 = [i for i in range(1000000)]\n",
        "list2 = [i for i in range(1000000)]\n",
        "\n",
        "start_time = time.time()\n",
        "dot_product_list = sum(list1[i] * list2[i] for i in range(1000000))\n",
        "end_time = time.time()\n",
        "\n",
        "print(\"Dot product using Python lists:\", dot_product_list)\n",
        "print(\"Time taken using Python lists:\", end_time - start_time, \"seconds\")\n"
      ],
      "metadata": {
        "colab": {
          "base_uri": "https://localhost:8080/"
        },
        "id": "uJgOM6FX83T1",
        "outputId": "62d5d52c-5606-4d90-cb4f-c8e0bbcdfc80"
      },
      "execution_count": null,
      "outputs": [
        {
          "output_type": "stream",
          "name": "stdout",
          "text": [
            "Dot product using Python lists: 333332833333500000\n",
            "Time taken using Python lists: 0.17689275741577148 seconds\n"
          ]
        }
      ]
    },
    {
      "cell_type": "code",
      "source": [
        "import time\n",
        "\n",
        "list1 = [i for i in range(1000000)]\n",
        "list2 = [i for i in range(1000000)]\n",
        "\n",
        "start_time = time.time()\n",
        "dot_product_list = sum(list1[i] * list2[i] for i in range(1000000))\n",
        "end_time = time.time()\n",
        "\n",
        "print(\"Dot product using Python lists:\", dot_product_list)\n",
        "print(\"Time taken using Python lists:\", end_time - start_time, \"seconds\")\n"
      ],
      "metadata": {
        "colab": {
          "base_uri": "https://localhost:8080/"
        },
        "id": "EWmTot6z9K9O",
        "outputId": "d3b73d52-340f-4ad7-ea4c-cac361c35dee"
      },
      "execution_count": null,
      "outputs": [
        {
          "output_type": "stream",
          "name": "stdout",
          "text": [
            "Dot product using Python lists: 333332833333500000\n",
            "Time taken using Python lists: 0.2749598026275635 seconds\n"
          ]
        }
      ]
    },
    {
      "cell_type": "code",
      "source": [
        "import time\n",
        "\n",
        "matrix1 = [[i for i in range(1000)] for j in range(1000)]\n",
        "matrix2 = [[i for i in range(1000)] for j in range(1000)]\n",
        "\n",
        "start_time = time.time()\n",
        "result_matrix = [[sum(a * b for a, b in zip(matrix1_row, matrix2_col)) for matrix2_col in zip(*matrix2)] for matrix1_row in matrix1]\n",
        "end_time = time.time()\n",
        "\n",
        "print(\"Time taken for matrix multiplication using Python lists:\", end_time - start_time, \"seconds\")\n"
      ],
      "metadata": {
        "colab": {
          "base_uri": "https://localhost:8080/"
        },
        "id": "Cf83ZGzH9OEC",
        "outputId": "4fb6add6-0865-4172-8dc1-73b9de24f1f0"
      },
      "execution_count": null,
      "outputs": [
        {
          "output_type": "stream",
          "name": "stdout",
          "text": [
            "Time taken for matrix multiplication using Python lists: 242.73483729362488 seconds\n"
          ]
        }
      ]
    },
    {
      "cell_type": "code",
      "source": [
        "import numpy as np\n",
        "import time\n",
        "\n",
        "array1 = np.arange(1000000).reshape(1000, 1000)\n",
        "array2 = np.arange(1000000).reshape(1000, 1000)\n",
        "\n",
        "start_time = time.time()\n",
        "result_array = np.dot(array1, array2)\n",
        "end_time = time.time()\n",
        "\n",
        "print(\"Time taken for matrix multiplication using NumPy arrays:\", end_time - start_time, \"seconds\")\n"
      ],
      "metadata": {
        "colab": {
          "base_uri": "https://localhost:8080/"
        },
        "id": "5ZbwQB-s9R8P",
        "outputId": "bafd1aa7-6ab4-4b72-ac30-bf6c7ecc34e3"
      },
      "execution_count": null,
      "outputs": [
        {
          "output_type": "stream",
          "name": "stdout",
          "text": [
            "Time taken for matrix multiplication using NumPy arrays: 2.639695405960083 seconds\n"
          ]
        }
      ]
    }
  ]
}