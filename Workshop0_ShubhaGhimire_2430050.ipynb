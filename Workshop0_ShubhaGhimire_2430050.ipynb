{
  "metadata": {
    "kernelspec": {
      "name": "python",
      "display_name": "Python (Pyodide)",
      "language": "python"
    },
    "language_info": {
      "codemirror_mode": {
        "name": "python",
        "version": 3
      },
      "file_extension": ".py",
      "mimetype": "text/x-python",
      "name": "python",
      "nbconvert_exporter": "python",
      "pygments_lexer": "ipython3",
      "version": "3.8"
    }
  },
  "nbformat_minor": 4,
  "nbformat": 4,
  "cells": [
    {
      "cell_type": "code",
      "source": "#Name: Shubha Ghimire Id: 2430050 Group: 21\n\n#Task 1: Classify Temperature\n\n\ntemperatures = [\n    8.2, 17.4, 14.1, 7.9, 18.0, 13.5, 9.0, 17.8, 13.0, 8.5,\n    16.5, 12.9, 7.7, 17.2, 13.3, 8.4, 16.7, 14.0, 9.5, 18.3,\n    13.4, 8.1, 17.9, 14.2, 7.6, 17.0, 12.8, 8.0, 16.8, 13.7,\n    7.8, 17.5, 13.6, 8.7, 17.1, 13.8, 9.2, 18.1, 13.9, 8.3,\n    16.4, 12.7, 8.9, 18.2, 13.1, 7.8, 16.6, 12.5\n]\n\n#Initialize empty lists for classifications\ncold = []\nmild = []\ncomfortable = []\n\n\n\nfor temp in temperatures:\n  if temp < 10:\n    cold.append(temp)\n  elif 10 <= temp < 15:\n    mild.append(temp)\n  elif 15 <= temp <= 20:\n    comfortable.append(temp)\n\n#Print results to verify the classificatons\nprint(\"Cold temperatures (< 10 degree C) is: \", cold)\nprint(\"Mild temperatures  (10 degree C between 15 degree C) is: \", mild)\nprint(\"Comfortable temperatures (15 degree C between 20 degree C) is: \", comfortable)\n",
      "metadata": {
        "trusted": true
      },
      "outputs": [],
      "execution_count": null
    },
    {
      "cell_type": "code",
      "source": "#Task 2: Based on Data\n# Count the number of times it was mild\nmild_count = len(mild)\nprint(\"Number of times it was mild:\", mild_count)\n",
      "metadata": {
        "trusted": true
      },
      "outputs": [],
      "execution_count": null
    },
    {
      "cell_type": "code",
      "source": "# Count the number of times it was comfortable\ncomfortable_count = len(comfortable)\nprint(\"Number of times it was comfortable:\", comfortable_count)\n",
      "metadata": {
        "trusted": true
      },
      "outputs": [],
      "execution_count": null
    },
    {
      "cell_type": "code",
      "source": "# Count the number of times it was cold\ncold_count = len(cold)\nprint(\"Number of times it was cold:\", cold_count)\n",
      "metadata": {
        "trusted": true
      },
      "outputs": [],
      "execution_count": null
    },
    {
      "cell_type": "code",
      "source": "#Task 3: Convert Temperatures from Celsius to Fahrenheit\n#Temperature in Celsius\n\ntemperatures = [\n    8.2, 17.4, 14.1, 7.9, 18.0, 13.5, 9.0, 17.8, 13.0, 8.5,\n    16.5, 12.9, 7.7, 17.2, 13.3, 8.4, 16.7, 14.0, 9.5, 18.3,\n    13.4, 8.1, 17.9, 14.2, 7.6, 17.0, 12.8, 8.0, 16.8, 13.7,\n    7.8, 17.5, 13.6, 8.7, 17.1, 13.8, 9.2, 18.1, 13.9, 8.3,\n    16.4, 12.7, 8.9, 18.2, 13.1, 7.8, 16.6, 12.5\n]\n\n\ntemperatures_fahrenheit = []\n\n\nfor temp in temperatures:\n    fahrenheit = (temp * 9 / 5) + 32  # Apply the formula\n    temperatures_fahrenheit.append(fahrenheit)  \n\n# Print the converted Fahrenheit values\nprint(\"Temperatures in Fahrenheit:\", temperatures_fahrenheit)\n",
      "metadata": {
        "trusted": true
      },
      "outputs": [],
      "execution_count": null
    },
    {
      "cell_type": "code",
      "source": "#Task 4: Analyze Temperature Patterns by Time of Day\n\ntemperatures = [\n    8.2, 17.4, 14.1, 7.9, 18.0, 13.5, 9.0, 17.8, 13.0, 8.5,\n    16.5, 12.9, 7.7, 17.2, 13.3, 8.4, 16.7, 14.0, 9.5, 18.3,\n    13.4, 8.1, 17.9, 14.2, 7.6, 17.0, 12.8, 8.0, 16.8, 13.7,\n    7.8, 17.5, 13.6, 8.7, 17.1, 13.8, 9.2, 18.1, 13.9, 8.3,\n    16.4, 12.7, 8.9, 18.2, 13.1, 7.8, 16.6, 12.5\n]\n\n\nnight_temperatures = []\nevening_temperatures = []\nday_temperatures = []\n\n\nfor i in range(len(temperatures)):\n    if i % 3 == 0:  \n        night_temperatures.append(temperatures[i])\n    elif i % 3 == 1:  \n        evening_temperatures.append(temperatures[i])\n    elif i % 3 == 2:  \n        day_temperatures.append(temperatures[i])\n\n# Print classified temperatures\nprint(\"Night temperatures:\", night_temperatures)\nprint(\"Evening temperatures:\", evening_temperatures)\nprint(\"Day temperatures:\", day_temperatures)\n\n# Calculate the average day-time temperature\naverage_day_temperature = sum(day_temperatures) / len(day_temperatures)\nprint(f\"Average day-time temperature: {average_day_temperature:.2f}°C\")\n\nimport matplotlib.pyplot as plt\n\n\ndays = list(range(1, len(day_temperatures) + 1))\n\n# Plot \"day vs. temperature\"\nplt.figure(figsize=(10, 5))\nplt.plot(days, day_temperatures, marker='o', label='Day Temperatures')\nplt.title(\"Day vs. Temperature\")\nplt.xlabel(\"Day\")\nplt.ylabel(\"Temperature (°C)\")\nplt.xticks(days)  # Show each day as a tick\nplt.grid()\nplt.legend()\nplt.show()\n",
      "metadata": {
        "trusted": true
      },
      "outputs": [],
      "execution_count": null
    },
    {
      "cell_type": "code",
      "source": "#8.1.1: Exercise: Recursion Task 1: Sum of Nested Lists\ndef sum_nested_list(nested_list):\n    \"\"\"\n    Calculate the sum of all numbers in a nested list.\n\n    This function takes a list that may contain integers and other nested lists.\n    It recursively traverses the list and sums all the integers, no matter how deeply\n    nested they are.\n\n    Args:\n        nested_list (list): A list that may contain integers or other lists of integers.\n\n    Returns:\n        int: The total sum of all integers in the nested list, including those in sublists.\n\n    Example:\n        >>> sum_nested_list([1, [2, [3, 4], 5], 6, [7, 8]])\n        36\n        >>> sum_nested_list([1, [2, 3], [4, [5]]])\n        15\n    \"\"\"\n    total = 0  \n\n    \n    for element in nested_list:\n        if isinstance(element, list): \n            total += sum_nested_list(element)  \n        else:\n            total += element  \n\n    return total\n\n\n# Test the function with a sample nested list\nnested_list = [1, [2, [3, 4], 5], 6, [7, 8]]\nresult = sum_nested_list(nested_list)\nprint(\"The total sum of all numbers in the nested list is:\", result)\n",
      "metadata": {
        "trusted": true
      },
      "outputs": [],
      "execution_count": null
    },
    {
      "cell_type": "code",
      "source": "#Task 2: Generate All Permutations of a String\ndef generate_permutations(s):\n    \"\"\"\n    Generate all unique permutations of a given string.\n\n    Args:\n        s (str): The input string.\n\n    Returns:\n        list: A list containing all unique permutations of the input string.\n\n    Example:\n        >>> generate_permutations(\"abc\")\n        ['abc', 'acb', 'bac', 'bca', 'cab', 'cba']\n        >>> generate_permutations(\"aab\")\n        ['aab', 'aba', 'baa']\n    \"\"\"\n    \n    if len(s) == 1:\n        return [s]\n\n    \n    permutations = set()\n\n    \n    for i, char in enumerate(s):\n        \n        remaining = s[:i] + s[i+1:]\n        for perm in generate_permutations(remaining):\n            \n            permutations.add(char + perm)\n\n   \n    return sorted(permutations)\n\n# Test cases\nprint(generate_permutations(\"abc\"))  # Should return ['abc', 'acb', 'bac', 'bca', 'cab', 'cba']\nprint(generate_permutations(\"aab\"))  # Should return ['aab', 'aba', 'baa']\n",
      "metadata": {
        "trusted": true
      },
      "outputs": [],
      "execution_count": null
    },
    {
      "cell_type": "code",
      "source": "#Task 3: Directory Size Calculation\ndef calculate_directory_size(directory):\n    \"\"\"\n    Recursively calculates the total size of a directory, including all nested files and subdirectories.\n\n    Args:\n        directory (dict): A dictionary representing the directory structure, where:\n            - Keys are file names or directory names.\n            - Values are file sizes (for files) or another dictionary (for subdirectories).\n\n    Returns:\n        int: The total size of the directory in KB.\n\n    Example:\n        directory_structure = {\n            \"file1.txt\": 200,\n            \"file2.txt\": 300,\n            \"subdir1\": {\n                \"file3.txt\": 400,\n                \"file4.txt\": 100\n            },\n            \"subdir2\": {\n                \"subsubdir1\": {\n                    \"file5.txt\": 250\n                },\n                \"file6.txt\": 150\n            }\n        }\n        >>> calculate_directory_size(directory_structure)\n        1400\n    \"\"\"\n    total_size = 0  \n\n    for key, value in directory.items():\n        if isinstance(value, dict): \n            total_size += calculate_directory_size(value)  # Recursively calculate its size\n        else:  # If the value is a file size\n            total_size += value\n\n    return total_size\n\n# Sample directory structure\ndirectory_structure = {\n    \"file1.txt\": 200,\n    \"file2.txt\": 300,\n    \"subdir1\": {\n        \"file3.txt\": 400,\n        \"file4.txt\": 100\n    },\n    \"subdir2\": {\n        \"subsubdir1\": {\n            \"file5.txt\": 250\n        },\n        \"file6.txt\": 150\n    }\n}\n\n# Calculate and print the total size of the sample directory structure\ntotal_size = calculate_directory_size(directory_structure)\nprint(\"The total size of the directory is:\", total_size, \"KB\")\n",
      "metadata": {
        "trusted": true
      },
      "outputs": [],
      "execution_count": null
    },
    {
      "cell_type": "code",
      "source": "#8.2.2: Exercises - Dynamic Programming Task 1: Coin Change Problem\ndef min_coins(coins, amount):\n    \"\"\"\n    Finds the minimum number of coins needed to make up a given amount using dynamic programming.\n\n    Args:\n        coins (list of int): A list of coin denominations available for making change.\n        amount (int): The target amount for which we need to find the minimum number of coins.\n\n    Returns:\n        int: The minimum number of coins required to make the given amount.\n        If it is not possible to make the amount with the given coins, returns -1.\n\n    Example:\n        >>> min_coins([1, 2, 5], 11)\n        3\n        >>> min_coins([2], 3)\n        -1\n    \"\"\"\n    \n    dp = [float('inf')] * (amount + 1)  \n    dp[0] = 0  \n\n    \n    for coin in coins:\n        \n        for i in range(coin, amount + 1):\n            dp[i] = min(dp[i], dp[i - coin] + 1)\n\n    \n    return dp[amount] if dp[amount] != float('inf') else -1\n\n# Test cases\nprint(min_coins([1, 2, 5], 11))  \nprint(min_coins([2], 3))  \n",
      "metadata": {
        "trusted": true
      },
      "outputs": [],
      "execution_count": null
    },
    {
      "cell_type": "code",
      "source": "#Task 2: Longest Common Subsequence (LCS)\ndef longest_common_subsequence(s1, s2):\n    \"\"\"\n    Finds the length of the longest common subsequence (LCS) between two strings using dynamic programming.\n\n    Args:\n        s1 (str): The first string.\n        s2 (str): The second string.\n\n    Returns:\n        int: The length of the longest common subsequence.\n\n    Example:\n        >>> longest_common_subsequence(\"abcde\", \"ace\")\n        3\n        >>> longest_common_subsequence(\"abc\", \"def\")\n        0\n    \"\"\"\n    \n    dp = [[0] * (len(s2) + 1) for _ in range(len(s1) + 1)]\n\n    \n    for i in range(1, len(s1) + 1):\n        for j in range(1, len(s2) + 1):\n            if s1[i - 1] == s2[j - 1]:  # If characters match\n                dp[i][j] = dp[i - 1][j - 1] + 1\n            else:  \n                dp[i][j] = max(dp[i - 1][j], dp[i][j - 1])\n\n    \n    return dp[len(s1)][len(s2)]\n\n# Test cases\nprint(longest_common_subsequence(\"abcde\", \"ace\"))  \nprint(longest_common_subsequence(\"abc\", \"def\"))    \n",
      "metadata": {
        "trusted": true
      },
      "outputs": [],
      "execution_count": null
    },
    {
      "cell_type": "code",
      "source": "#Task 3: Knapsack Problem\ndef knapsack(weights, values, capacity):\n    \"\"\"\n    Solves the 0/1 Knapsack problem using dynamic programming to maximize the value\n    of items that can be carried without exceeding the weight capacity.\n\n    Args:\n        weights (list of int): A list representing the weights of items.\n        values (list of int): A list representing the values of items.\n        capacity (int): The maximum weight capacity of the knapsack.\n\n    Returns:\n        int: The maximum value that can be achieved within the given weight capacity.\n\n    Example:\n        >>> knapsack([1, 2, 3], [10, 20, 30], 5)\n        50\n    \"\"\"\n    n = len(weights)  \n    \n    dp = [[0] * (capacity + 1) for _ in range(n + 1)]\n\n    \n    for i in range(1, n + 1):  \n        for w in range(1, capacity + 1):  \n            if weights[i - 1] <= w:  \n                dp[i][w] = max(dp[i - 1][w], dp[i - 1][w - weights[i - 1]] + values[i - 1])\n            else:\n                dp[i][w] = dp[i - 1][w]  \n\n    \n    return dp[n][capacity]\n\n\nweights = [1, 2, 3]\nvalues = [10, 20, 30]\ncapacity = 5\nprint(knapsack(weights, values, capacity))  \n",
      "metadata": {
        "trusted": true
      },
      "outputs": [],
      "execution_count": null
    }
  ]
}