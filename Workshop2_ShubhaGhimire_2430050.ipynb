{
  "nbformat": 4,
  "nbformat_minor": 0,
  "metadata": {
    "colab": {
      "provenance": []
    },
    "kernelspec": {
      "name": "python3",
      "display_name": "Python 3"
    },
    "language_info": {
      "name": "python"
    }
  },
  "cells": [
    {
      "cell_type": "code",
      "source": [
        "#Name: Shubha Ghimire\n",
        "#ID: 2430050"
      ],
      "metadata": {
        "id": "WLrapiQy9dFO"
      },
      "execution_count": null,
      "outputs": []
    },
    {
      "cell_type": "code",
      "execution_count": null,
      "metadata": {
        "colab": {
          "base_uri": "https://localhost:8080/",
          "height": 226
        },
        "id": "X0n3dcBQz2Rx",
        "outputId": "299df723-acc3-4d92-b447-08ff276ceb85"
      },
      "outputs": [
        {
          "output_type": "execute_result",
          "data": {
            "text/plain": [
              "   age           job  marital  education default  balance housing loan  \\\n",
              "0   58    management  married   tertiary      no     2143     yes   no   \n",
              "1   44    technician   single  secondary      no       29     yes   no   \n",
              "2   33  entrepreneur  married  secondary      no        2     yes  yes   \n",
              "3   47   blue-collar  married    unknown      no     1506     yes   no   \n",
              "4   33       unknown   single    unknown      no        1      no   no   \n",
              "\n",
              "   contact  day month  duration  campaign  pdays  previous poutcome   y  \n",
              "0  unknown    5   may       261         1     -1         0  unknown  no  \n",
              "1  unknown    5   may       151         1     -1         0  unknown  no  \n",
              "2  unknown    5   may        76         1     -1         0  unknown  no  \n",
              "3  unknown    5   may        92         1     -1         0  unknown  no  \n",
              "4  unknown    5   may       198         1     -1         0  unknown  no  "
            ],
            "text/html": [
              "\n",
              "  <div id=\"df-a7e8bdf1-9a10-4496-9cc0-50f19e3ad64a\" class=\"colab-df-container\">\n",
              "    <div>\n",
              "<style scoped>\n",
              "    .dataframe tbody tr th:only-of-type {\n",
              "        vertical-align: middle;\n",
              "    }\n",
              "\n",
              "    .dataframe tbody tr th {\n",
              "        vertical-align: top;\n",
              "    }\n",
              "\n",
              "    .dataframe thead th {\n",
              "        text-align: right;\n",
              "    }\n",
              "</style>\n",
              "<table border=\"1\" class=\"dataframe\">\n",
              "  <thead>\n",
              "    <tr style=\"text-align: right;\">\n",
              "      <th></th>\n",
              "      <th>age</th>\n",
              "      <th>job</th>\n",
              "      <th>marital</th>\n",
              "      <th>education</th>\n",
              "      <th>default</th>\n",
              "      <th>balance</th>\n",
              "      <th>housing</th>\n",
              "      <th>loan</th>\n",
              "      <th>contact</th>\n",
              "      <th>day</th>\n",
              "      <th>month</th>\n",
              "      <th>duration</th>\n",
              "      <th>campaign</th>\n",
              "      <th>pdays</th>\n",
              "      <th>previous</th>\n",
              "      <th>poutcome</th>\n",
              "      <th>y</th>\n",
              "    </tr>\n",
              "  </thead>\n",
              "  <tbody>\n",
              "    <tr>\n",
              "      <th>0</th>\n",
              "      <td>58</td>\n",
              "      <td>management</td>\n",
              "      <td>married</td>\n",
              "      <td>tertiary</td>\n",
              "      <td>no</td>\n",
              "      <td>2143</td>\n",
              "      <td>yes</td>\n",
              "      <td>no</td>\n",
              "      <td>unknown</td>\n",
              "      <td>5</td>\n",
              "      <td>may</td>\n",
              "      <td>261</td>\n",
              "      <td>1</td>\n",
              "      <td>-1</td>\n",
              "      <td>0</td>\n",
              "      <td>unknown</td>\n",
              "      <td>no</td>\n",
              "    </tr>\n",
              "    <tr>\n",
              "      <th>1</th>\n",
              "      <td>44</td>\n",
              "      <td>technician</td>\n",
              "      <td>single</td>\n",
              "      <td>secondary</td>\n",
              "      <td>no</td>\n",
              "      <td>29</td>\n",
              "      <td>yes</td>\n",
              "      <td>no</td>\n",
              "      <td>unknown</td>\n",
              "      <td>5</td>\n",
              "      <td>may</td>\n",
              "      <td>151</td>\n",
              "      <td>1</td>\n",
              "      <td>-1</td>\n",
              "      <td>0</td>\n",
              "      <td>unknown</td>\n",
              "      <td>no</td>\n",
              "    </tr>\n",
              "    <tr>\n",
              "      <th>2</th>\n",
              "      <td>33</td>\n",
              "      <td>entrepreneur</td>\n",
              "      <td>married</td>\n",
              "      <td>secondary</td>\n",
              "      <td>no</td>\n",
              "      <td>2</td>\n",
              "      <td>yes</td>\n",
              "      <td>yes</td>\n",
              "      <td>unknown</td>\n",
              "      <td>5</td>\n",
              "      <td>may</td>\n",
              "      <td>76</td>\n",
              "      <td>1</td>\n",
              "      <td>-1</td>\n",
              "      <td>0</td>\n",
              "      <td>unknown</td>\n",
              "      <td>no</td>\n",
              "    </tr>\n",
              "    <tr>\n",
              "      <th>3</th>\n",
              "      <td>47</td>\n",
              "      <td>blue-collar</td>\n",
              "      <td>married</td>\n",
              "      <td>unknown</td>\n",
              "      <td>no</td>\n",
              "      <td>1506</td>\n",
              "      <td>yes</td>\n",
              "      <td>no</td>\n",
              "      <td>unknown</td>\n",
              "      <td>5</td>\n",
              "      <td>may</td>\n",
              "      <td>92</td>\n",
              "      <td>1</td>\n",
              "      <td>-1</td>\n",
              "      <td>0</td>\n",
              "      <td>unknown</td>\n",
              "      <td>no</td>\n",
              "    </tr>\n",
              "    <tr>\n",
              "      <th>4</th>\n",
              "      <td>33</td>\n",
              "      <td>unknown</td>\n",
              "      <td>single</td>\n",
              "      <td>unknown</td>\n",
              "      <td>no</td>\n",
              "      <td>1</td>\n",
              "      <td>no</td>\n",
              "      <td>no</td>\n",
              "      <td>unknown</td>\n",
              "      <td>5</td>\n",
              "      <td>may</td>\n",
              "      <td>198</td>\n",
              "      <td>1</td>\n",
              "      <td>-1</td>\n",
              "      <td>0</td>\n",
              "      <td>unknown</td>\n",
              "      <td>no</td>\n",
              "    </tr>\n",
              "  </tbody>\n",
              "</table>\n",
              "</div>\n",
              "    <div class=\"colab-df-buttons\">\n",
              "\n",
              "  <div class=\"colab-df-container\">\n",
              "    <button class=\"colab-df-convert\" onclick=\"convertToInteractive('df-a7e8bdf1-9a10-4496-9cc0-50f19e3ad64a')\"\n",
              "            title=\"Convert this dataframe to an interactive table.\"\n",
              "            style=\"display:none;\">\n",
              "\n",
              "  <svg xmlns=\"http://www.w3.org/2000/svg\" height=\"24px\" viewBox=\"0 -960 960 960\">\n",
              "    <path d=\"M120-120v-720h720v720H120Zm60-500h600v-160H180v160Zm220 220h160v-160H400v160Zm0 220h160v-160H400v160ZM180-400h160v-160H180v160Zm440 0h160v-160H620v160ZM180-180h160v-160H180v160Zm440 0h160v-160H620v160Z\"/>\n",
              "  </svg>\n",
              "    </button>\n",
              "\n",
              "  <style>\n",
              "    .colab-df-container {\n",
              "      display:flex;\n",
              "      gap: 12px;\n",
              "    }\n",
              "\n",
              "    .colab-df-convert {\n",
              "      background-color: #E8F0FE;\n",
              "      border: none;\n",
              "      border-radius: 50%;\n",
              "      cursor: pointer;\n",
              "      display: none;\n",
              "      fill: #1967D2;\n",
              "      height: 32px;\n",
              "      padding: 0 0 0 0;\n",
              "      width: 32px;\n",
              "    }\n",
              "\n",
              "    .colab-df-convert:hover {\n",
              "      background-color: #E2EBFA;\n",
              "      box-shadow: 0px 1px 2px rgba(60, 64, 67, 0.3), 0px 1px 3px 1px rgba(60, 64, 67, 0.15);\n",
              "      fill: #174EA6;\n",
              "    }\n",
              "\n",
              "    .colab-df-buttons div {\n",
              "      margin-bottom: 4px;\n",
              "    }\n",
              "\n",
              "    [theme=dark] .colab-df-convert {\n",
              "      background-color: #3B4455;\n",
              "      fill: #D2E3FC;\n",
              "    }\n",
              "\n",
              "    [theme=dark] .colab-df-convert:hover {\n",
              "      background-color: #434B5C;\n",
              "      box-shadow: 0px 1px 3px 1px rgba(0, 0, 0, 0.15);\n",
              "      filter: drop-shadow(0px 1px 2px rgba(0, 0, 0, 0.3));\n",
              "      fill: #FFFFFF;\n",
              "    }\n",
              "  </style>\n",
              "\n",
              "    <script>\n",
              "      const buttonEl =\n",
              "        document.querySelector('#df-a7e8bdf1-9a10-4496-9cc0-50f19e3ad64a button.colab-df-convert');\n",
              "      buttonEl.style.display =\n",
              "        google.colab.kernel.accessAllowed ? 'block' : 'none';\n",
              "\n",
              "      async function convertToInteractive(key) {\n",
              "        const element = document.querySelector('#df-a7e8bdf1-9a10-4496-9cc0-50f19e3ad64a');\n",
              "        const dataTable =\n",
              "          await google.colab.kernel.invokeFunction('convertToInteractive',\n",
              "                                                    [key], {});\n",
              "        if (!dataTable) return;\n",
              "\n",
              "        const docLinkHtml = 'Like what you see? Visit the ' +\n",
              "          '<a target=\"_blank\" href=https://colab.research.google.com/notebooks/data_table.ipynb>data table notebook</a>'\n",
              "          + ' to learn more about interactive tables.';\n",
              "        element.innerHTML = '';\n",
              "        dataTable['output_type'] = 'display_data';\n",
              "        await google.colab.output.renderOutput(dataTable, element);\n",
              "        const docLink = document.createElement('div');\n",
              "        docLink.innerHTML = docLinkHtml;\n",
              "        element.appendChild(docLink);\n",
              "      }\n",
              "    </script>\n",
              "  </div>\n",
              "\n",
              "\n",
              "<div id=\"df-73b09d23-89ca-444b-8adf-37a70abc0425\">\n",
              "  <button class=\"colab-df-quickchart\" onclick=\"quickchart('df-73b09d23-89ca-444b-8adf-37a70abc0425')\"\n",
              "            title=\"Suggest charts\"\n",
              "            style=\"display:none;\">\n",
              "\n",
              "<svg xmlns=\"http://www.w3.org/2000/svg\" height=\"24px\"viewBox=\"0 0 24 24\"\n",
              "     width=\"24px\">\n",
              "    <g>\n",
              "        <path d=\"M19 3H5c-1.1 0-2 .9-2 2v14c0 1.1.9 2 2 2h14c1.1 0 2-.9 2-2V5c0-1.1-.9-2-2-2zM9 17H7v-7h2v7zm4 0h-2V7h2v10zm4 0h-2v-4h2v4z\"/>\n",
              "    </g>\n",
              "</svg>\n",
              "  </button>\n",
              "\n",
              "<style>\n",
              "  .colab-df-quickchart {\n",
              "      --bg-color: #E8F0FE;\n",
              "      --fill-color: #1967D2;\n",
              "      --hover-bg-color: #E2EBFA;\n",
              "      --hover-fill-color: #174EA6;\n",
              "      --disabled-fill-color: #AAA;\n",
              "      --disabled-bg-color: #DDD;\n",
              "  }\n",
              "\n",
              "  [theme=dark] .colab-df-quickchart {\n",
              "      --bg-color: #3B4455;\n",
              "      --fill-color: #D2E3FC;\n",
              "      --hover-bg-color: #434B5C;\n",
              "      --hover-fill-color: #FFFFFF;\n",
              "      --disabled-bg-color: #3B4455;\n",
              "      --disabled-fill-color: #666;\n",
              "  }\n",
              "\n",
              "  .colab-df-quickchart {\n",
              "    background-color: var(--bg-color);\n",
              "    border: none;\n",
              "    border-radius: 50%;\n",
              "    cursor: pointer;\n",
              "    display: none;\n",
              "    fill: var(--fill-color);\n",
              "    height: 32px;\n",
              "    padding: 0;\n",
              "    width: 32px;\n",
              "  }\n",
              "\n",
              "  .colab-df-quickchart:hover {\n",
              "    background-color: var(--hover-bg-color);\n",
              "    box-shadow: 0 1px 2px rgba(60, 64, 67, 0.3), 0 1px 3px 1px rgba(60, 64, 67, 0.15);\n",
              "    fill: var(--button-hover-fill-color);\n",
              "  }\n",
              "\n",
              "  .colab-df-quickchart-complete:disabled,\n",
              "  .colab-df-quickchart-complete:disabled:hover {\n",
              "    background-color: var(--disabled-bg-color);\n",
              "    fill: var(--disabled-fill-color);\n",
              "    box-shadow: none;\n",
              "  }\n",
              "\n",
              "  .colab-df-spinner {\n",
              "    border: 2px solid var(--fill-color);\n",
              "    border-color: transparent;\n",
              "    border-bottom-color: var(--fill-color);\n",
              "    animation:\n",
              "      spin 1s steps(1) infinite;\n",
              "  }\n",
              "\n",
              "  @keyframes spin {\n",
              "    0% {\n",
              "      border-color: transparent;\n",
              "      border-bottom-color: var(--fill-color);\n",
              "      border-left-color: var(--fill-color);\n",
              "    }\n",
              "    20% {\n",
              "      border-color: transparent;\n",
              "      border-left-color: var(--fill-color);\n",
              "      border-top-color: var(--fill-color);\n",
              "    }\n",
              "    30% {\n",
              "      border-color: transparent;\n",
              "      border-left-color: var(--fill-color);\n",
              "      border-top-color: var(--fill-color);\n",
              "      border-right-color: var(--fill-color);\n",
              "    }\n",
              "    40% {\n",
              "      border-color: transparent;\n",
              "      border-right-color: var(--fill-color);\n",
              "      border-top-color: var(--fill-color);\n",
              "    }\n",
              "    60% {\n",
              "      border-color: transparent;\n",
              "      border-right-color: var(--fill-color);\n",
              "    }\n",
              "    80% {\n",
              "      border-color: transparent;\n",
              "      border-right-color: var(--fill-color);\n",
              "      border-bottom-color: var(--fill-color);\n",
              "    }\n",
              "    90% {\n",
              "      border-color: transparent;\n",
              "      border-bottom-color: var(--fill-color);\n",
              "    }\n",
              "  }\n",
              "</style>\n",
              "\n",
              "  <script>\n",
              "    async function quickchart(key) {\n",
              "      const quickchartButtonEl =\n",
              "        document.querySelector('#' + key + ' button');\n",
              "      quickchartButtonEl.disabled = true;  // To prevent multiple clicks.\n",
              "      quickchartButtonEl.classList.add('colab-df-spinner');\n",
              "      try {\n",
              "        const charts = await google.colab.kernel.invokeFunction(\n",
              "            'suggestCharts', [key], {});\n",
              "      } catch (error) {\n",
              "        console.error('Error during call to suggestCharts:', error);\n",
              "      }\n",
              "      quickchartButtonEl.classList.remove('colab-df-spinner');\n",
              "      quickchartButtonEl.classList.add('colab-df-quickchart-complete');\n",
              "    }\n",
              "    (() => {\n",
              "      let quickchartButtonEl =\n",
              "        document.querySelector('#df-73b09d23-89ca-444b-8adf-37a70abc0425 button');\n",
              "      quickchartButtonEl.style.display =\n",
              "        google.colab.kernel.accessAllowed ? 'block' : 'none';\n",
              "    })();\n",
              "  </script>\n",
              "</div>\n",
              "\n",
              "    </div>\n",
              "  </div>\n"
            ],
            "application/vnd.google.colaboratory.intrinsic+json": {
              "type": "dataframe",
              "variable_name": "df",
              "summary": "{\n  \"name\": \"df\",\n  \"rows\": 45211,\n  \"fields\": [\n    {\n      \"column\": \"age\",\n      \"properties\": {\n        \"dtype\": \"number\",\n        \"std\": 10,\n        \"min\": 18,\n        \"max\": 95,\n        \"num_unique_values\": 77,\n        \"samples\": [\n          35,\n          34,\n          53\n        ],\n        \"semantic_type\": \"\",\n        \"description\": \"\"\n      }\n    },\n    {\n      \"column\": \"job\",\n      \"properties\": {\n        \"dtype\": \"category\",\n        \"num_unique_values\": 12,\n        \"samples\": [\n          \"housemaid\",\n          \"unemployed\",\n          \"management\"\n        ],\n        \"semantic_type\": \"\",\n        \"description\": \"\"\n      }\n    },\n    {\n      \"column\": \"marital\",\n      \"properties\": {\n        \"dtype\": \"category\",\n        \"num_unique_values\": 3,\n        \"samples\": [\n          \"married\",\n          \"single\",\n          \"divorced\"\n        ],\n        \"semantic_type\": \"\",\n        \"description\": \"\"\n      }\n    },\n    {\n      \"column\": \"education\",\n      \"properties\": {\n        \"dtype\": \"category\",\n        \"num_unique_values\": 4,\n        \"samples\": [\n          \"secondary\",\n          \"primary\",\n          \"tertiary\"\n        ],\n        \"semantic_type\": \"\",\n        \"description\": \"\"\n      }\n    },\n    {\n      \"column\": \"default\",\n      \"properties\": {\n        \"dtype\": \"category\",\n        \"num_unique_values\": 2,\n        \"samples\": [\n          \"yes\",\n          \"no\"\n        ],\n        \"semantic_type\": \"\",\n        \"description\": \"\"\n      }\n    },\n    {\n      \"column\": \"balance\",\n      \"properties\": {\n        \"dtype\": \"number\",\n        \"std\": 3044,\n        \"min\": -8019,\n        \"max\": 102127,\n        \"num_unique_values\": 7168,\n        \"samples\": [\n          3276,\n          43\n        ],\n        \"semantic_type\": \"\",\n        \"description\": \"\"\n      }\n    },\n    {\n      \"column\": \"housing\",\n      \"properties\": {\n        \"dtype\": \"category\",\n        \"num_unique_values\": 2,\n        \"samples\": [\n          \"no\",\n          \"yes\"\n        ],\n        \"semantic_type\": \"\",\n        \"description\": \"\"\n      }\n    },\n    {\n      \"column\": \"loan\",\n      \"properties\": {\n        \"dtype\": \"category\",\n        \"num_unique_values\": 2,\n        \"samples\": [\n          \"yes\",\n          \"no\"\n        ],\n        \"semantic_type\": \"\",\n        \"description\": \"\"\n      }\n    },\n    {\n      \"column\": \"contact\",\n      \"properties\": {\n        \"dtype\": \"category\",\n        \"num_unique_values\": 3,\n        \"samples\": [\n          \"unknown\",\n          \"cellular\"\n        ],\n        \"semantic_type\": \"\",\n        \"description\": \"\"\n      }\n    },\n    {\n      \"column\": \"day\",\n      \"properties\": {\n        \"dtype\": \"number\",\n        \"std\": 8,\n        \"min\": 1,\n        \"max\": 31,\n        \"num_unique_values\": 31,\n        \"samples\": [\n          1,\n          27\n        ],\n        \"semantic_type\": \"\",\n        \"description\": \"\"\n      }\n    },\n    {\n      \"column\": \"month\",\n      \"properties\": {\n        \"dtype\": \"category\",\n        \"num_unique_values\": 12,\n        \"samples\": [\n          \"apr\",\n          \"mar\"\n        ],\n        \"semantic_type\": \"\",\n        \"description\": \"\"\n      }\n    },\n    {\n      \"column\": \"duration\",\n      \"properties\": {\n        \"dtype\": \"number\",\n        \"std\": 257,\n        \"min\": 0,\n        \"max\": 4918,\n        \"num_unique_values\": 1573,\n        \"samples\": [\n          835,\n          1135\n        ],\n        \"semantic_type\": \"\",\n        \"description\": \"\"\n      }\n    },\n    {\n      \"column\": \"campaign\",\n      \"properties\": {\n        \"dtype\": \"number\",\n        \"std\": 3,\n        \"min\": 1,\n        \"max\": 63,\n        \"num_unique_values\": 48,\n        \"samples\": [\n          41,\n          27\n        ],\n        \"semantic_type\": \"\",\n        \"description\": \"\"\n      }\n    },\n    {\n      \"column\": \"pdays\",\n      \"properties\": {\n        \"dtype\": \"number\",\n        \"std\": 100,\n        \"min\": -1,\n        \"max\": 871,\n        \"num_unique_values\": 559,\n        \"samples\": [\n          249,\n          551\n        ],\n        \"semantic_type\": \"\",\n        \"description\": \"\"\n      }\n    },\n    {\n      \"column\": \"previous\",\n      \"properties\": {\n        \"dtype\": \"number\",\n        \"std\": 2,\n        \"min\": 0,\n        \"max\": 275,\n        \"num_unique_values\": 41,\n        \"samples\": [\n          17,\n          9\n        ],\n        \"semantic_type\": \"\",\n        \"description\": \"\"\n      }\n    },\n    {\n      \"column\": \"poutcome\",\n      \"properties\": {\n        \"dtype\": \"category\",\n        \"num_unique_values\": 4,\n        \"samples\": [\n          \"failure\",\n          \"success\"\n        ],\n        \"semantic_type\": \"\",\n        \"description\": \"\"\n      }\n    },\n    {\n      \"column\": \"y\",\n      \"properties\": {\n        \"dtype\": \"category\",\n        \"num_unique_values\": 2,\n        \"samples\": [\n          \"yes\",\n          \"no\"\n        ],\n        \"semantic_type\": \"\",\n        \"description\": \"\"\n      }\n    }\n  ]\n}"
            }
          },
          "metadata": {},
          "execution_count": 8
        }
      ],
      "source": [
        "#problem 1\n",
        "#Dataset bank.csv\n",
        "#1.\n",
        "import pandas as pd\n",
        "df=pd.read_csv('/content/drive/MyDrive/Concept and Technology of AI/bank.csv')\n",
        "df.head()"
      ]
    },
    {
      "cell_type": "code",
      "source": [
        "#2.\n",
        "# Check the info of the DataFrame\n",
        "df_info = df.info()\n",
        "print(df_info)\n",
        "\n",
        "object_columns = df.select_dtypes(include=['object']).columns\n",
        "print(\"\\nColumns with dtype=object:\")\n",
        "print(object_columns)\n"
      ],
      "metadata": {
        "colab": {
          "base_uri": "https://localhost:8080/"
        },
        "id": "zxFXdODV72Us",
        "outputId": "0991b4a5-49b3-42be-b340-1d557cf2f2c7"
      },
      "execution_count": null,
      "outputs": [
        {
          "output_type": "stream",
          "name": "stdout",
          "text": [
            "<class 'pandas.core.frame.DataFrame'>\n",
            "RangeIndex: 45211 entries, 0 to 45210\n",
            "Data columns (total 17 columns):\n",
            " #   Column     Non-Null Count  Dtype \n",
            "---  ------     --------------  ----- \n",
            " 0   age        45211 non-null  int64 \n",
            " 1   job        45211 non-null  object\n",
            " 2   marital    45211 non-null  object\n",
            " 3   education  45211 non-null  object\n",
            " 4   default    45211 non-null  object\n",
            " 5   balance    45211 non-null  int64 \n",
            " 6   housing    45211 non-null  object\n",
            " 7   loan       45211 non-null  object\n",
            " 8   contact    45211 non-null  object\n",
            " 9   day        45211 non-null  int64 \n",
            " 10  month      45211 non-null  object\n",
            " 11  duration   45211 non-null  int64 \n",
            " 12  campaign   45211 non-null  int64 \n",
            " 13  pdays      45211 non-null  int64 \n",
            " 14  previous   45211 non-null  int64 \n",
            " 15  poutcome   45211 non-null  object\n",
            " 16  y          45211 non-null  object\n",
            "dtypes: int64(7), object(10)\n",
            "memory usage: 5.9+ MB\n",
            "None\n",
            "\n",
            "Columns with dtype=object:\n",
            "Index(['job', 'marital', 'education', 'default', 'housing', 'loan', 'contact',\n",
            "       'month', 'poutcome', 'y'],\n",
            "      dtype='object')\n"
          ]
        }
      ]
    },
    {
      "cell_type": "code",
      "source": [
        "#2(b)\n",
        "\n",
        "import pandas as pd\n",
        "\n",
        "# Load the dataset\n",
        "df = pd.read_csv('/content/drive/MyDrive/Concept and Technology of AI/bank.csv')\n",
        "\n",
        "# Get info of the DataFrame\n",
        "df.info()\n",
        "\n",
        "# Identify columns with dtype 'object'\n",
        "object_columns = df.select_dtypes(include=['object']).columns\n",
        "\n",
        "for col in object_columns:\n",
        "    print(f\"Unique values in '{col}':\")\n",
        "    print(df[col].unique())\n",
        "    print(\"\\n\")\n"
      ],
      "metadata": {
        "id": "EGQxXk1P8EBY",
        "colab": {
          "base_uri": "https://localhost:8080/"
        },
        "outputId": "c0fe6f37-f3bc-4c5f-e3a4-bf5eae292d8f"
      },
      "execution_count": 2,
      "outputs": [
        {
          "output_type": "stream",
          "name": "stdout",
          "text": [
            "<class 'pandas.core.frame.DataFrame'>\n",
            "RangeIndex: 45211 entries, 0 to 45210\n",
            "Data columns (total 17 columns):\n",
            " #   Column     Non-Null Count  Dtype \n",
            "---  ------     --------------  ----- \n",
            " 0   age        45211 non-null  int64 \n",
            " 1   job        45211 non-null  object\n",
            " 2   marital    45211 non-null  object\n",
            " 3   education  45211 non-null  object\n",
            " 4   default    45211 non-null  object\n",
            " 5   balance    45211 non-null  int64 \n",
            " 6   housing    45211 non-null  object\n",
            " 7   loan       45211 non-null  object\n",
            " 8   contact    45211 non-null  object\n",
            " 9   day        45211 non-null  int64 \n",
            " 10  month      45211 non-null  object\n",
            " 11  duration   45211 non-null  int64 \n",
            " 12  campaign   45211 non-null  int64 \n",
            " 13  pdays      45211 non-null  int64 \n",
            " 14  previous   45211 non-null  int64 \n",
            " 15  poutcome   45211 non-null  object\n",
            " 16  y          45211 non-null  object\n",
            "dtypes: int64(7), object(10)\n",
            "memory usage: 5.9+ MB\n",
            "Unique values in 'job':\n",
            "['management' 'technician' 'entrepreneur' 'blue-collar' 'unknown'\n",
            " 'retired' 'admin.' 'services' 'self-employed' 'unemployed' 'housemaid'\n",
            " 'student']\n",
            "\n",
            "\n",
            "Unique values in 'marital':\n",
            "['married' 'single' 'divorced']\n",
            "\n",
            "\n",
            "Unique values in 'education':\n",
            "['tertiary' 'secondary' 'unknown' 'primary']\n",
            "\n",
            "\n",
            "Unique values in 'default':\n",
            "['no' 'yes']\n",
            "\n",
            "\n",
            "Unique values in 'housing':\n",
            "['yes' 'no']\n",
            "\n",
            "\n",
            "Unique values in 'loan':\n",
            "['no' 'yes']\n",
            "\n",
            "\n",
            "Unique values in 'contact':\n",
            "['unknown' 'cellular' 'telephone']\n",
            "\n",
            "\n",
            "Unique values in 'month':\n",
            "['may' 'jun' 'jul' 'aug' 'oct' 'nov' 'dec' 'jan' 'feb' 'mar' 'apr' 'sep']\n",
            "\n",
            "\n",
            "Unique values in 'poutcome':\n",
            "['unknown' 'failure' 'other' 'success']\n",
            "\n",
            "\n",
            "Unique values in 'y':\n",
            "['no' 'yes']\n",
            "\n",
            "\n"
          ]
        }
      ]
    },
    {
      "cell_type": "code",
      "source": [
        "#2(c)\n",
        "import pandas as pd\n",
        "\n",
        "# Load the dataset\n",
        "df = pd.read_csv('/content/drive/MyDrive/Concept and Technology of AI/bank.csv')\n",
        "\n",
        "# Check for the total number of null values in each column\n",
        "null_values = df.isnull().sum()\n",
        "\n",
        "# Print the result\n",
        "print(null_values)\n"
      ],
      "metadata": {
        "colab": {
          "base_uri": "https://localhost:8080/"
        },
        "id": "Ysx_k5Lp3uXn",
        "outputId": "5d37242c-2fd3-489f-b334-ac13a076ee25"
      },
      "execution_count": 3,
      "outputs": [
        {
          "output_type": "stream",
          "name": "stdout",
          "text": [
            "age          0\n",
            "job          0\n",
            "marital      0\n",
            "education    0\n",
            "default      0\n",
            "balance      0\n",
            "housing      0\n",
            "loan         0\n",
            "contact      0\n",
            "day          0\n",
            "month        0\n",
            "duration     0\n",
            "campaign     0\n",
            "pdays        0\n",
            "previous     0\n",
            "poutcome     0\n",
            "y            0\n",
            "dtype: int64\n"
          ]
        }
      ]
    },
    {
      "cell_type": "code",
      "source": [
        "#3\n",
        "import pandas as pd\n",
        "\n",
        "# Load the dataset\n",
        "df = pd.read_csv('/content/drive/MyDrive/Concept and Technology of AI/bank.csv')\n",
        "\n",
        "# Drop columns with dtype 'object' and store in a new DataFrame\n",
        "df_numeric = df.select_dtypes(exclude=['object'])\n",
        "\n",
        "# Save the new DataFrame to a CSV file\n",
        "df_numeric.to_csv('banknumericdata.csv', index=False)\n",
        "\n",
        "# Optional: print the first few rows of the new DataFrame to verify\n",
        "print(df_numeric.head())\n"
      ],
      "metadata": {
        "colab": {
          "base_uri": "https://localhost:8080/"
        },
        "id": "rRdt23DX32zi",
        "outputId": "eca4de90-bd0e-4cf0-a430-519cb4f5ad6e"
      },
      "execution_count": 4,
      "outputs": [
        {
          "output_type": "stream",
          "name": "stdout",
          "text": [
            "   age  balance  day  duration  campaign  pdays  previous\n",
            "0   58     2143    5       261         1     -1         0\n",
            "1   44       29    5       151         1     -1         0\n",
            "2   33        2    5        76         1     -1         0\n",
            "3   47     1506    5        92         1     -1         0\n",
            "4   33        1    5       198         1     -1         0\n"
          ]
        }
      ]
    },
    {
      "cell_type": "code",
      "source": [
        "#4\n",
        "import pandas as pd\n",
        "\n",
        "# Read the 'banknumericdata.csv' file\n",
        "df_numeric = pd.read_csv('banknumericdata.csv')\n",
        "\n",
        "# Get the summary statistics for the numeric columns\n",
        "summary_statistics = df_numeric.describe()\n",
        "\n",
        "# Print the summary statistics\n",
        "print(summary_statistics)\n"
      ],
      "metadata": {
        "colab": {
          "base_uri": "https://localhost:8080/"
        },
        "id": "WE2vxbiF3-gA",
        "outputId": "84af70af-8285-4205-d86d-df732d75f1c5"
      },
      "execution_count": 5,
      "outputs": [
        {
          "output_type": "stream",
          "name": "stdout",
          "text": [
            "                age        balance           day      duration      campaign  \\\n",
            "count  45211.000000   45211.000000  45211.000000  45211.000000  45211.000000   \n",
            "mean      40.936210    1362.272058     15.806419    258.163080      2.763841   \n",
            "std       10.618762    3044.765829      8.322476    257.527812      3.098021   \n",
            "min       18.000000   -8019.000000      1.000000      0.000000      1.000000   \n",
            "25%       33.000000      72.000000      8.000000    103.000000      1.000000   \n",
            "50%       39.000000     448.000000     16.000000    180.000000      2.000000   \n",
            "75%       48.000000    1428.000000     21.000000    319.000000      3.000000   \n",
            "max       95.000000  102127.000000     31.000000   4918.000000     63.000000   \n",
            "\n",
            "              pdays      previous  \n",
            "count  45211.000000  45211.000000  \n",
            "mean      40.197828      0.580323  \n",
            "std      100.128746      2.303441  \n",
            "min       -1.000000      0.000000  \n",
            "25%       -1.000000      0.000000  \n",
            "50%       -1.000000      0.000000  \n",
            "75%       -1.000000      0.000000  \n",
            "max      871.000000    275.000000  \n"
          ]
        }
      ]
    },
    {
      "cell_type": "code",
      "source": [
        "#Problem 2 Data imputations\n",
        "#1.\n",
        "import pandas as pd\n",
        "\n",
        "# Load the 'medical student' dataset\n",
        "df = pd.read_csv('/content/drive/MyDrive/Concept and Technology of AI/medical_students_dataset.csv')\n",
        "\n",
        "# Print the first few rows to verify\n",
        "print(df.head())\n"
      ],
      "metadata": {
        "colab": {
          "base_uri": "https://localhost:8080/"
        },
        "id": "K5ZZ-OXF4DLs",
        "outputId": "9be0e206-28f7-40e7-c5ee-563bd57a7e67"
      },
      "execution_count": 8,
      "outputs": [
        {
          "output_type": "stream",
          "name": "stdout",
          "text": [
            "   Student ID   Age  Gender      Height     Weight Blood Type        BMI  \\\n",
            "0         1.0  18.0  Female  161.777924  72.354947          O  27.645835   \n",
            "1         2.0   NaN    Male  152.069157  47.630941          B        NaN   \n",
            "2         3.0  32.0  Female  182.537664  55.741083          A  16.729017   \n",
            "3         NaN  30.0    Male  182.112867  63.332207          B  19.096042   \n",
            "4         5.0  23.0  Female         NaN  46.234173          O        NaN   \n",
            "\n",
            "   Temperature  Heart Rate  Blood Pressure  Cholesterol Diabetes Smoking  \n",
            "0          NaN        95.0           109.0        203.0       No     NaN  \n",
            "1    98.714977        93.0           104.0        163.0       No      No  \n",
            "2    98.260293        76.0           130.0        216.0      Yes      No  \n",
            "3    98.839605        99.0           112.0        141.0       No     Yes  \n",
            "4    98.480008        95.0             NaN        231.0       No      No  \n"
          ]
        }
      ]
    },
    {
      "cell_type": "code",
      "source": [
        "#2\n",
        "import pandas as pd\n",
        "\n",
        "# Load the 'medical student' dataset\n",
        "df = pd.read_csv('/content/drive/MyDrive/Concept and Technology of AI/medical_students_dataset.csv')\n",
        "\n",
        "# Check the info of the DataFrame\n",
        "df.info()\n",
        "\n",
        "# Identify columns with missing (null) values\n",
        "missing_values = df.isnull().sum()\n",
        "\n",
        "# Print columns with missing values\n",
        "print(\"Columns with missing values:\")\n",
        "print(missing_values[missing_values > 0])\n"
      ],
      "metadata": {
        "colab": {
          "base_uri": "https://localhost:8080/"
        },
        "id": "jSBD9BRr5CmG",
        "outputId": "a9cc8e59-62da-4c97-c1d7-3c9e99e8c46b"
      },
      "execution_count": 9,
      "outputs": [
        {
          "output_type": "stream",
          "name": "stdout",
          "text": [
            "<class 'pandas.core.frame.DataFrame'>\n",
            "RangeIndex: 200000 entries, 0 to 199999\n",
            "Data columns (total 13 columns):\n",
            " #   Column          Non-Null Count   Dtype  \n",
            "---  ------          --------------   -----  \n",
            " 0   Student ID      180000 non-null  float64\n",
            " 1   Age             180000 non-null  float64\n",
            " 2   Gender          180000 non-null  object \n",
            " 3   Height          180000 non-null  float64\n",
            " 4   Weight          180000 non-null  float64\n",
            " 5   Blood Type      180000 non-null  object \n",
            " 6   BMI             180000 non-null  float64\n",
            " 7   Temperature     180000 non-null  float64\n",
            " 8   Heart Rate      180000 non-null  float64\n",
            " 9   Blood Pressure  180000 non-null  float64\n",
            " 10  Cholesterol     180000 non-null  float64\n",
            " 11  Diabetes        180000 non-null  object \n",
            " 12  Smoking         180000 non-null  object \n",
            "dtypes: float64(9), object(4)\n",
            "memory usage: 19.8+ MB\n",
            "Columns with missing values:\n",
            "Student ID        20000\n",
            "Age               20000\n",
            "Gender            20000\n",
            "Height            20000\n",
            "Weight            20000\n",
            "Blood Type        20000\n",
            "BMI               20000\n",
            "Temperature       20000\n",
            "Heart Rate        20000\n",
            "Blood Pressure    20000\n",
            "Cholesterol       20000\n",
            "Diabetes          20000\n",
            "Smoking           20000\n",
            "dtype: int64\n"
          ]
        }
      ]
    },
    {
      "cell_type": "code",
      "source": [
        "#3\n",
        "import pandas as pd\n",
        "\n",
        "# Load the 'medical student' dataset\n",
        "df = pd.read_csv('/content/drive/MyDrive/Concept and Technology of AI/medical_students_dataset.csv')\n",
        "\n",
        "# Check for missing values\n",
        "missing_values = df.isnull().sum()\n",
        "print(\"Columns with missing values:\\n\", missing_values[missing_values > 0])\n",
        "\n",
        "if 'age' in df.columns:\n",
        "    # If 'age' is skewed, use median to fill missing values\n",
        "    df['age'] = df['age'].fillna(df['age'].median())\n",
        "    print(\"Missing values in 'age' filled using median.\")\n",
        "\n",
        "\n",
        "if 'gender' in df.columns:\n",
        "    # Fill missing values in 'gender' with the most frequent value (mode)\n",
        "    df['gender'] = df['gender'].fillna(df['gender'].mode()[0])\n",
        "    print(\"Missing values in 'gender' filled using mode.\")\n",
        "\n",
        "\n",
        "if 'timestamp' in df.columns:\n",
        "    df['timestamp'] = df['timestamp'].fillna(method='ffill')\n",
        "    print(\"Missing values in 'timestamp' filled using forward fill.\")\n",
        "\n",
        "# Check if all missing values have been filled\n",
        "print(\"\\nMissing values after imputation:\\n\", df.isnull().sum())\n"
      ],
      "metadata": {
        "colab": {
          "base_uri": "https://localhost:8080/"
        },
        "id": "i9e_Cbj65NgC",
        "outputId": "cd2504c2-6f26-4286-f0d2-6adc71ca1f72"
      },
      "execution_count": 11,
      "outputs": [
        {
          "output_type": "stream",
          "name": "stdout",
          "text": [
            "Columns with missing values:\n",
            " Student ID        20000\n",
            "Age               20000\n",
            "Gender            20000\n",
            "Height            20000\n",
            "Weight            20000\n",
            "Blood Type        20000\n",
            "BMI               20000\n",
            "Temperature       20000\n",
            "Heart Rate        20000\n",
            "Blood Pressure    20000\n",
            "Cholesterol       20000\n",
            "Diabetes          20000\n",
            "Smoking           20000\n",
            "dtype: int64\n",
            "\n",
            "Missing values after imputation:\n",
            " Student ID        20000\n",
            "Age               20000\n",
            "Gender            20000\n",
            "Height            20000\n",
            "Weight            20000\n",
            "Blood Type        20000\n",
            "BMI               20000\n",
            "Temperature       20000\n",
            "Heart Rate        20000\n",
            "Blood Pressure    20000\n",
            "Cholesterol       20000\n",
            "Diabetes          20000\n",
            "Smoking           20000\n",
            "dtype: int64\n"
          ]
        }
      ]
    },
    {
      "cell_type": "code",
      "source": [
        "#4\n",
        "import pandas as pd\n",
        "\n",
        "# Load the 'medical student' dataset\n",
        "df = pd.read_csv('/content/drive/MyDrive/Concept and Technology of AI/medical_students_dataset.csv')\n",
        "\n",
        "# Check for duplicate rows\n",
        "duplicate_rows = df.duplicated().sum()\n",
        "\n",
        "# Print the number of duplicate rows\n",
        "print(f\"Number of duplicate rows: {duplicate_rows}\")\n",
        "\n",
        "# If there are duplicates, remove them\n",
        "if duplicate_rows > 0:\n",
        "    # Remove duplicate rows\n",
        "    df_cleaned = df.drop_duplicates()\n",
        "\n",
        "    # Print the number of rows after removing duplicates\n",
        "    print(f\"Number of rows after removing duplicates: {df_cleaned.shape[0]}\")\n",
        "else:\n",
        "    print(\"No duplicates found.\")\n",
        "\n",
        "# Optionally: Save the cleaned DataFrame to a new CSV file\n",
        "df_cleaned.to_csv('medical_student_cleaned.csv', index=False)\n",
        "\n",
        "# Check the first few rows of the cleaned DataFrame\n",
        "print(\"\\nFirst few rows after cleaning:\")\n",
        "print(df_cleaned.head())\n"
      ],
      "metadata": {
        "colab": {
          "base_uri": "https://localhost:8080/"
        },
        "id": "5TBjQ0IP5rvT",
        "outputId": "62b0dd37-ad50-4644-d749-70fcd33920ac"
      },
      "execution_count": 12,
      "outputs": [
        {
          "output_type": "stream",
          "name": "stdout",
          "text": [
            "Number of duplicate rows: 7644\n",
            "Number of rows after removing duplicates: 192356\n",
            "\n",
            "First few rows after cleaning:\n",
            "   Student ID   Age  Gender      Height     Weight Blood Type        BMI  \\\n",
            "0         1.0  18.0  Female  161.777924  72.354947          O  27.645835   \n",
            "1         2.0   NaN    Male  152.069157  47.630941          B        NaN   \n",
            "2         3.0  32.0  Female  182.537664  55.741083          A  16.729017   \n",
            "3         NaN  30.0    Male  182.112867  63.332207          B  19.096042   \n",
            "4         5.0  23.0  Female         NaN  46.234173          O        NaN   \n",
            "\n",
            "   Temperature  Heart Rate  Blood Pressure  Cholesterol Diabetes Smoking  \n",
            "0          NaN        95.0           109.0        203.0       No     NaN  \n",
            "1    98.714977        93.0           104.0        163.0       No      No  \n",
            "2    98.260293        76.0           130.0        216.0      Yes      No  \n",
            "3    98.839605        99.0           112.0        141.0       No     Yes  \n",
            "4    98.480008        95.0             NaN        231.0       No      No  \n"
          ]
        }
      ]
    },
    {
      "cell_type": "code",
      "source": [
        "#Exercise 3.2\n",
        "#Dataset name 'titanic.csv'\n",
        "#Problem 1\n",
        "import pandas as pd\n",
        "\n",
        "# Load the Titanic dataset\n",
        "df = pd.read_csv('/content/drive/MyDrive/Concept and Technology of AI/Titanic-Dataset.csv')\n",
        "\n",
        "# Subset the DataFrame to include only relevant columns\n",
        "df_subset = df[['Name', 'Pclass', 'Sex', 'Age', 'Fare', 'Survived']]\n",
        "\n",
        "# Retain only rows where Pclass is equal to 1 (first-class passengers)\n",
        "df_first_class = df_subset[df_subset['Pclass'] == 1]\n",
        "\n",
        "# Calculate the mean, median, maximum, and minimum of the 'Fare' column\n",
        "mean_fare = df_first_class['Fare'].mean()\n",
        "median_fare = df_first_class['Fare'].median()\n",
        "max_fare = df_first_class['Fare'].max()\n",
        "min_fare = df_first_class['Fare'].min()\n",
        "\n",
        "# Print the results\n",
        "print(f\"Mean Fare: {mean_fare}\")\n",
        "print(f\"Median Fare: {median_fare}\")\n",
        "print(f\"Maximum Fare: {max_fare}\")\n",
        "print(f\"Minimum Fare: {min_fare}\")\n"
      ],
      "metadata": {
        "colab": {
          "base_uri": "https://localhost:8080/"
        },
        "id": "zZ5kR9yn52N9",
        "outputId": "6f474aea-0132-467c-dd63-0cbfc369fe77"
      },
      "execution_count": 13,
      "outputs": [
        {
          "output_type": "stream",
          "name": "stdout",
          "text": [
            "Mean Fare: 84.1546875\n",
            "Median Fare: 60.287499999999994\n",
            "Maximum Fare: 512.3292\n",
            "Minimum Fare: 0.0\n"
          ]
        }
      ]
    },
    {
      "cell_type": "code",
      "source": [
        "#Problem 2\n",
        "import pandas as pd\n",
        "\n",
        "# Load the Titanic dataset\n",
        "df = pd.read_csv('/content/drive/MyDrive/Concept and Technology of AI/Titanic-Dataset.csv')\n",
        "\n",
        "# Subset the DataFrame to include only relevant columns\n",
        "df_subset = df[['Name', 'Pclass', 'Sex', 'Age', 'Fare', 'Survived']]\n",
        "\n",
        "\n",
        "df_first_class = df_subset[df_subset['Pclass'] == 1]\n",
        "\n",
        "# Check the number of null values in the 'Age' column\n",
        "null_age_count = df_first_class['Age'].isnull().sum()\n",
        "\n",
        "# Print the number of null values\n",
        "print(f\"Number of null values in 'Age' column: {null_age_count}\")\n",
        "\n",
        "# Drop rows with missing values in the 'Age' column\n",
        "df_first_class_cleaned = df_first_class.dropna(subset=['Age'])\n",
        "\n",
        "# Verify the changes\n",
        "print(f\"Number of rows after dropping null values: {df_first_class_cleaned.shape[0]}\")\n"
      ],
      "metadata": {
        "colab": {
          "base_uri": "https://localhost:8080/"
        },
        "id": "A9_hw2mF7Cjn",
        "outputId": "581895c4-3f49-4a4f-f680-faebdba12646"
      },
      "execution_count": 14,
      "outputs": [
        {
          "output_type": "stream",
          "name": "stdout",
          "text": [
            "Number of null values in 'Age' column: 30\n",
            "Number of rows after dropping null values: 186\n"
          ]
        }
      ]
    },
    {
      "cell_type": "code",
      "source": [
        "#Problem 3\n",
        "import pandas as pd\n",
        "\n",
        "# Load the Titanic dataset\n",
        "df = pd.read_csv('/content/drive/MyDrive/Concept and Technology of AI/Titanic-Dataset.csv')\n",
        "\n",
        "# Check the unique values in the 'Embarked' column\n",
        "print(\"Unique values in 'Embarked' column:\")\n",
        "print(df['Embarked'].unique())\n",
        "\n",
        "# Check for missing values in 'Embarked'\n",
        "missing_embarked = df['Embarked'].isnull().sum()\n",
        "print(f\"\\nNumber of missing values in 'Embarked' column: {missing_embarked}\")\n",
        "\n",
        "# Handle missing values - We can either drop or fill with the mode (most frequent value)\n",
        "# Let's fill missing 'Embarked' values with the mode (most frequent port)\n",
        "df['Embarked'] = df['Embarked'].fillna(df['Embarked'].mode()[0])\n",
        "\n",
        "# Check the frequency of each embarkation port after filling missing values\n",
        "embarked_freq = df['Embarked'].value_counts()\n",
        "print(\"\\nFrequency of each embarkation port:\")\n",
        "print(embarked_freq)\n",
        "\n",
        "\n",
        "# Display the first few rows of the DataFrame after handling the 'Embarked' column\n",
        "print(\"\\nFirst few rows after handling 'Embarked' column:\")\n",
        "print(df[['Name', 'Pclass', 'Embarked']].head())\n"
      ],
      "metadata": {
        "colab": {
          "base_uri": "https://localhost:8080/"
        },
        "id": "uvOKFXyi7ONa",
        "outputId": "cc9be3c4-8561-4640-c66c-6c79a02f959b"
      },
      "execution_count": 16,
      "outputs": [
        {
          "output_type": "stream",
          "name": "stdout",
          "text": [
            "Unique values in 'Embarked' column:\n",
            "['S' 'C' 'Q' nan]\n",
            "\n",
            "Number of missing values in 'Embarked' column: 2\n",
            "\n",
            "Frequency of each embarkation port:\n",
            "Embarked\n",
            "S    646\n",
            "C    168\n",
            "Q     77\n",
            "Name: count, dtype: int64\n",
            "\n",
            "First few rows after handling 'Embarked' column:\n",
            "                                                Name  Pclass Embarked\n",
            "0                            Braund, Mr. Owen Harris       3        S\n",
            "1  Cumings, Mrs. John Bradley (Florence Briggs Th...       1        C\n",
            "2                             Heikkinen, Miss. Laina       3        S\n",
            "3       Futrelle, Mrs. Jacques Heath (Lily May Peel)       1        S\n",
            "4                           Allen, Mr. William Henry       3        S\n"
          ]
        }
      ]
    },
    {
      "cell_type": "code",
      "source": [
        "#1.\n",
        "\n",
        "import pandas as pd\n",
        "\n",
        "# Load the Titanic dataset\n",
        "df = pd.read_csv('/content/drive/MyDrive/Concept and Technology of AI/Titanic-Dataset.csv')\n",
        "\n",
        "# Use one-hot encoding to convert 'Embarked' into separate binary columns\n",
        "df_encoded = pd.get_dummies(df['Embarked'], prefix='Embarked')\n",
        "\n",
        "# Print the first few rows of the new one-hot encoded columns\n",
        "print(df_encoded.head())\n",
        "\n"
      ],
      "metadata": {
        "colab": {
          "base_uri": "https://localhost:8080/"
        },
        "id": "biSz3mqw7tZG",
        "outputId": "07ffa7d3-0968-4564-d9cd-db804ff24b18"
      },
      "execution_count": 17,
      "outputs": [
        {
          "output_type": "stream",
          "name": "stdout",
          "text": [
            "   Embarked_C  Embarked_Q  Embarked_S\n",
            "0       False       False        True\n",
            "1        True       False       False\n",
            "2       False       False        True\n",
            "3       False       False        True\n",
            "4       False       False        True\n"
          ]
        }
      ]
    },
    {
      "cell_type": "code",
      "source": [
        "#2.\n",
        "\n",
        "import pandas as pd\n",
        "\n",
        "# Load the Titanic dataset\n",
        "df = pd.read_csv('/content/drive/MyDrive/Concept and Technology of AI/Titanic-Dataset.csv')\n",
        "\n",
        "# Check the unique values in the 'Embarked' column to see if it matches 'C', 'Q', 'S'\n",
        "print(df['Embarked'].unique())\n",
        "\n",
        "# Use one-hot encoding to convert 'Embarked' into separate binary columns\n",
        "df_encoded = pd.get_dummies(df['Embarked'], prefix='Embarked')\n",
        "\n",
        "# Print the column names of the encoded DataFrame to ensure the columns were created\n",
        "print(df_encoded.columns)\n",
        "\n",
        "# Add the new one-hot encoded columns to the original DataFrame\n",
        "df = pd.concat([df, df_encoded], axis=1)\n",
        "\n",
        "# Print the first few rows of the modified DataFrame to verify the changes\n",
        "print(df[['Name', 'Pclass'] + list(df_encoded.columns)].head())\n"
      ],
      "metadata": {
        "colab": {
          "base_uri": "https://localhost:8080/"
        },
        "id": "Kw7XzOvB708t",
        "outputId": "3831f7ed-b7e8-46fd-c639-2ee60a9ea017"
      },
      "execution_count": 19,
      "outputs": [
        {
          "output_type": "stream",
          "name": "stdout",
          "text": [
            "['S' 'C' 'Q' nan]\n",
            "Index(['Embarked_C', 'Embarked_Q', 'Embarked_S'], dtype='object')\n",
            "                                                Name  Pclass  Embarked_C  \\\n",
            "0                            Braund, Mr. Owen Harris       3       False   \n",
            "1  Cumings, Mrs. John Bradley (Florence Briggs Th...       1        True   \n",
            "2                             Heikkinen, Miss. Laina       3       False   \n",
            "3       Futrelle, Mrs. Jacques Heath (Lily May Peel)       1       False   \n",
            "4                           Allen, Mr. William Henry       3       False   \n",
            "\n",
            "   Embarked_Q  Embarked_S  \n",
            "0       False        True  \n",
            "1       False       False  \n",
            "2       False        True  \n",
            "3       False        True  \n",
            "4       False        True  \n"
          ]
        }
      ]
    },
    {
      "cell_type": "code",
      "source": [
        "#3.\n",
        "import pandas as pd\n",
        "\n",
        "# Load the Titanic dataset\n",
        "df = pd.read_csv('/content/drive/MyDrive/Concept and Technology of AI/Titanic-Dataset.csv')\n",
        "\n",
        "# Check the unique values in the 'Embarked' column to see if it matches 'C', 'Q', 'S'\n",
        "print(df['Embarked'].unique())\n",
        "\n",
        "# Use one-hot encoding to convert 'Embarked' into separate binary columns\n",
        "df_encoded = pd.get_dummies(df['Embarked'], prefix='Embarked')\n",
        "\n",
        "# Add the new one-hot encoded columns to the original DataFrame\n",
        "df = pd.concat([df, df_encoded], axis=1)\n",
        "\n",
        "# Drop the original 'Embarked' column\n",
        "df = df.drop(columns=['Embarked'])\n",
        "\n",
        "# Print the first few rows of the modified DataFrame to verify the changes\n",
        "print(df[['Name', 'Pclass'] + list(df_encoded.columns)].head())\n"
      ],
      "metadata": {
        "colab": {
          "base_uri": "https://localhost:8080/"
        },
        "id": "tfzLDZch8UgM",
        "outputId": "093e17cd-bf82-4536-a6de-e01afc3ccc84"
      },
      "execution_count": 20,
      "outputs": [
        {
          "output_type": "stream",
          "name": "stdout",
          "text": [
            "['S' 'C' 'Q' nan]\n",
            "                                                Name  Pclass  Embarked_C  \\\n",
            "0                            Braund, Mr. Owen Harris       3       False   \n",
            "1  Cumings, Mrs. John Bradley (Florence Briggs Th...       1        True   \n",
            "2                             Heikkinen, Miss. Laina       3       False   \n",
            "3       Futrelle, Mrs. Jacques Heath (Lily May Peel)       1       False   \n",
            "4                           Allen, Mr. William Henry       3       False   \n",
            "\n",
            "   Embarked_Q  Embarked_S  \n",
            "0       False        True  \n",
            "1       False       False  \n",
            "2       False        True  \n",
            "3       False        True  \n",
            "4       False        True  \n"
          ]
        }
      ]
    },
    {
      "cell_type": "code",
      "source": [
        "import pandas as pd\n",
        "\n",
        "# Load the Titanic dataset\n",
        "df = pd.read_csv('/content/drive/MyDrive/Concept and Technology of AI/Titanic-Dataset.csv')\n",
        "\n",
        "# Check the unique values in the 'Embarked' column to see if it matches 'C', 'Q', 'S'\n",
        "print(\"Unique values in 'Embarked' column:\", df['Embarked'].unique())\n",
        "\n",
        "# Use one-hot encoding to convert 'Embarked' into separate binary columns\n",
        "df_encoded = pd.get_dummies(df['Embarked'], prefix='Embarked')\n",
        "\n",
        "# Print the columns of the one-hot encoded DataFrame to check what was created\n",
        "print(\"Columns created by one-hot encoding:\", df_encoded.columns)\n",
        "\n",
        "# Add the new one-hot encoded columns to the original DataFrame\n",
        "df = pd.concat([df, df_encoded], axis=1)\n",
        "\n",
        "# Drop the original 'Embarked' column\n",
        "df = df.drop(columns=['Embarked'])\n",
        "\n",
        "# Print the first few rows of the modified DataFrame to verify the changes\n",
        "print(df[['Name', 'Pclass'] + list(df_encoded.columns)].head())\n"
      ],
      "metadata": {
        "colab": {
          "base_uri": "https://localhost:8080/"
        },
        "id": "UuWJvZGO7fE8",
        "outputId": "8c583baf-cf14-47a0-89f9-c2af0eab4816"
      },
      "execution_count": 22,
      "outputs": [
        {
          "output_type": "stream",
          "name": "stdout",
          "text": [
            "Unique values in 'Embarked' column: ['S' 'C' 'Q' nan]\n",
            "Columns created by one-hot encoding: Index(['Embarked_C', 'Embarked_Q', 'Embarked_S'], dtype='object')\n",
            "                                                Name  Pclass  Embarked_C  \\\n",
            "0                            Braund, Mr. Owen Harris       3       False   \n",
            "1  Cumings, Mrs. John Bradley (Florence Briggs Th...       1        True   \n",
            "2                             Heikkinen, Miss. Laina       3       False   \n",
            "3       Futrelle, Mrs. Jacques Heath (Lily May Peel)       1       False   \n",
            "4                           Allen, Mr. William Henry       3       False   \n",
            "\n",
            "   Embarked_Q  Embarked_S  \n",
            "0       False        True  \n",
            "1       False       False  \n",
            "2       False        True  \n",
            "3       False        True  \n",
            "4       False        True  \n"
          ]
        }
      ]
    },
    {
      "cell_type": "code",
      "source": [
        "#Problem 4\n",
        "import pandas as pd\n",
        "import matplotlib.pyplot as plt\n",
        "import seaborn as sns\n",
        "\n",
        "# Load the Titanic dataset\n",
        "df = pd.read_csv('/content/drive/MyDrive/Concept and Technology of AI/Titanic-Dataset.csv')\n",
        "\n",
        "# Group by 'Sex' and calculate the mean of 'Survived' for each group\n",
        "mean_survival_by_gender = df.groupby('Sex')['Survived'].mean()\n",
        "\n",
        "# Print the mean survival rates by gender\n",
        "print(mean_survival_by_gender)\n",
        "\n",
        "# Create a bar plot to visualize the survival rates by gender\n",
        "plt.figure(figsize=(8, 6))\n",
        "sns.barplot(x=mean_survival_by_gender.index, y=mean_survival_by_gender.values, palette='viridis')\n",
        "\n",
        "# Set the title and labels\n",
        "plt.title('Mean Survival Rates by Gender')\n",
        "plt.xlabel('Gender')\n",
        "plt.ylabel('Mean Survival Rate')\n",
        "plt.show()\n"
      ],
      "metadata": {
        "colab": {
          "base_uri": "https://localhost:8080/",
          "height": 740
        },
        "id": "t9r4suZo8rAR",
        "outputId": "7fdbbd2d-1b8f-4bf5-ffe8-4467fa1af9e6"
      },
      "execution_count": 23,
      "outputs": [
        {
          "output_type": "stream",
          "name": "stdout",
          "text": [
            "Sex\n",
            "female    0.742038\n",
            "male      0.188908\n",
            "Name: Survived, dtype: float64\n"
          ]
        },
        {
          "output_type": "stream",
          "name": "stderr",
          "text": [
            "<ipython-input-23-9e2784402eb0>:17: FutureWarning: \n",
            "\n",
            "Passing `palette` without assigning `hue` is deprecated and will be removed in v0.14.0. Assign the `x` variable to `hue` and set `legend=False` for the same effect.\n",
            "\n",
            "  sns.barplot(x=mean_survival_by_gender.index, y=mean_survival_by_gender.values, palette='viridis')\n"
          ]
        },
        {
          "output_type": "display_data",
          "data": {
            "text/plain": [
              "<Figure size 800x600 with 1 Axes>"
            ],
            "image/png": "[encoded data removed]"
          },
          "metadata": {}
        }
      ]
    },
    {
      "cell_type": "code",
      "source": [
        "#Problem 5\n",
        "import pandas as pd\n",
        "import matplotlib.pyplot as plt\n",
        "import seaborn as sns\n",
        "\n",
        "# Load the Titanic dataset\n",
        "df = pd.read_csv('/content/drive/MyDrive/Concept and Technology of AI/Titanic-Dataset.csv')\n",
        "\n",
        "# Group by 'Sex' and 'Embarked' and calculate the mean of 'Survived' for each group\n",
        "mean_survival_by_gender_port = df.groupby(['Sex', 'Embarked'])['Survived'].mean().reset_index()\n",
        "\n",
        "# Create a bar plot to visualize the survival rates by gender and port of embarkation\n",
        "plt.figure(figsize=(10, 6))\n",
        "sns.barplot(x='Embarked', y='Survived', hue='Sex', data=mean_survival_by_gender_port, palette='viridis')\n",
        "\n",
        "# Set the title and labels\n",
        "plt.title('Mean Survival Rates by Gender and Port of Embarkation')\n",
        "plt.xlabel('Port of Embarkation')\n",
        "plt.ylabel('Mean Survival Rate')\n",
        "\n",
        "# Show the plot\n",
        "plt.show()\n"
      ],
      "metadata": {
        "colab": {
          "base_uri": "https://localhost:8080/",
          "height": 537
        },
        "id": "e4op-g2-9EQ4",
        "outputId": "315ad18c-ae34-4eb1-bcac-70ed00c98537"
      },
      "execution_count": 25,
      "outputs": [
        {
          "output_type": "display_data",
          "data": {
            "text/plain": [
              "<Figure size 1000x600 with 1 Axes>"
            ],
            "image/png": "[encoded data removed]"
          },
          "metadata": {}
        }
      ]
    }
  ]
}